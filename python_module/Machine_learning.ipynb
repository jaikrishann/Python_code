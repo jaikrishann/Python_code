{
 "cells": [
  {
   "cell_type": "markdown",
   "metadata": {},
   "source": [
    "<!-- <img src=\"pieplot.png\" alt=\"Pie Plot\" style=\"width: 600px; height: 500px;\"> -->\n"
   ]
  },
  {
   "cell_type": "markdown",
   "metadata": {},
   "source": [
    "# Machine Learning 👨‍💻"
   ]
  },
  {
   "cell_type": "markdown",
   "metadata": {},
   "source": [
    "### What is Machine Learning?\n",
    "\n",
    "--> Machine Learning definition is the science of teaching machines how to learn by themselves."
   ]
  },
  {
   "cell_type": "markdown",
   "metadata": {},
   "source": [
    "### Applications of Machine Learning in day-to-day life\n",
    "\n",
    "--> Smartphones detecting faces while taking photos or unlocking themselves\n",
    "\n",
    "--> Facebook, LinkedIn or any other social media site recommending your friends and ads you might be interested in\n",
    "\n",
    "--> Amazon recommending you the products based on your browsing history\n",
    "\n",
    "--> Banks using Machine Learning to detect Fraud transactions in real-time"
   ]
  },
  {
   "cell_type": "markdown",
   "metadata": {},
   "source": [
    "### What tools are used in Machine Learning?\n",
    "There are several tools and languages being used in machine learning. The exact choice of the tool depends on your need and scale of operations. But, here are the most commonly used tools in machine learning:\n",
    "\n",
    "Languages:\n",
    "R,\n",
    "Python,\n",
    "SAS,\n",
    "Julia,\n",
    "Java,\n",
    "Javascript,\n",
    "Scala.\n",
    "\n",
    "Databases:\n",
    "SQL,\n",
    "Oracle,\n",
    "Hadoop.\n",
    "\n",
    "Visualization tools:\n",
    "D3.js,\n",
    "Tableau,\n",
    "QlikView.\n",
    "\n",
    "Other tools commonly used:\n",
    "Excel,\n",
    "Powerpoint."
   ]
  },
  {
   "cell_type": "markdown",
   "metadata": {},
   "source": []
  },
  {
   "cell_type": "markdown",
   "metadata": {},
   "source": [
    "## Types of ML:-\n",
    "<img src=\"Machine-learning-algorithms-and-common-applications.png\" alt=\"Pie Plot\" style=\"width: 1000px; height: 500px;\">\n"
   ]
  },
  {
   "cell_type": "markdown",
   "metadata": {},
   "source": [
    "## What are the Different algorithms used in Machine Learning?\n",
    "Supervised Learning:-\n",
    "\n",
    "Linear Regression,\n",
    "Logistic Regression,\n",
    "k-nearest neighbors,\n",
    "Decision Trees,\n",
    "Random Forest,\n",
    "Gradient Boosting Machines,\n",
    "XGBoost,\n",
    "Support Vector Machines (SVM),\n",
    "Neural Networks.\n",
    "\n",
    "\n",
    "\n",
    "\n",
    "\n",
    "Unsupervised Learning:-\n",
    "k means clustering,\n",
    "Hierarchical clustering,\n",
    "Neural Network,\n",
    "Reinforcement Learning."
   ]
  },
  {
   "cell_type": "markdown",
   "metadata": {},
   "source": [
    "## What are the steps involved in building machine learning models?\n",
    "\n",
    "<img src=\"Life cycle of ML.png\" alt=\"Pie Plot\" style=\"width: 500px; height: 350px;\">\n"
   ]
  },
  {
   "cell_type": "markdown",
   "metadata": {},
   "source": []
  },
  {
   "cell_type": "markdown",
   "metadata": {},
   "source": []
  },
  {
   "cell_type": "markdown",
   "metadata": {},
   "source": []
  },
  {
   "cell_type": "code",
   "execution_count": null,
   "metadata": {},
   "outputs": [],
   "source": []
  }
 ],
 "metadata": {
  "language_info": {
   "name": "python"
  }
 },
 "nbformat": 4,
 "nbformat_minor": 2
}
