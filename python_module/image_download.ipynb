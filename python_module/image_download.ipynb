{
 "cells": [
  {
   "cell_type": "code",
   "execution_count": null,
   "metadata": {},
   "outputs": [],
   "source": [
    "\n",
    "import requests\n",
    "\n",
    "\n",
    "for i in range(10):\n",
    "    response = requests.get(\"https://picsum.photos/2000/3000\")\n",
    "\n",
    "    if response.status_code == 200:\n",
    "        with open(str(i)+' Downloaded.jpg','wb') as file:\n",
    "            file.write(response.content)\n",
    "    else:\n",
    "        print('not successed')"
   ]
  },
  {
   "cell_type": "code",
   "execution_count": null,
   "metadata": {},
   "outputs": [],
   "source": [
    "response = requests.get(\"https://picsum.photos/2000/3000\")\n",
    "response.content"
   ]
  },
  {
   "cell_type": "code",
   "execution_count": null,
   "metadata": {},
   "outputs": [],
   "source": [
    "import pandas as pd\n",
    "import requests\n",
    "\n",
    "def download_files_from_csv(csv_file):\n",
    "    # Read the CSV file into a DataFrame\n",
    "    df = pd.read_csv(\"book_data.csv\")\n",
    "    \n",
    "    # Iterate over each row in the DataFrame\n",
    "    for _, row in df.iterrows():\n",
    "        file_url = row['Image-URL-L']  # Assuming 'File URL' is the header for the URL column in the CSV\n",
    "        file_name = row['Book-Title']  # Assuming 'File Name' is the header for the name of the file\n",
    "        try:\n",
    "            # Use requests to download the file\n",
    "            response = requests.get(file_url)\n",
    "            if response.status_code == 200:\n",
    "                with open(file_name, 'wb') as f:\n",
    "                    f.write(response.content)\n",
    "                print(f\"Downloaded {file_name} successfully!\")\n",
    "            else:\n",
    "                print(f\"Failed to download {file_name}. Status code: {response.status_code}\")\n",
    "        except Exception as e:\n",
    "            print(f\"Error downloading {file_name}: {e}\")\n",
    "\n",
    "# Example usage\n",
    "csv_file = 'book_data.csv'  # Change this to the path of your CSV file\n",
    "download_files_from_csv(csv_file)\n"
   ]
  },
  {
   "cell_type": "code",
   "execution_count": null,
   "metadata": {},
   "outputs": [],
   "source": []
  }
 ],
 "metadata": {
  "language_info": {
   "name": "python"
  }
 },
 "nbformat": 4,
 "nbformat_minor": 2
}
