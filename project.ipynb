{
 "cells": [
  {
   "cell_type": "code",
   "execution_count": 3,
   "metadata": {},
   "outputs": [
    {
     "name": "stdout",
     "output_type": "stream",
     "text": [
      "png\n",
      "D:\\Python_code\\img_folder\\a7714bfa-24ad-4031-b57f-5e911a67d94d.png\n",
      "D:\\Python_code\\mje\\a7714bfa-24ad-4031-b57f-5e911a67d94d.png\n",
      "csv\n",
      "D:\\Python_code\\csv_folder\\annual-enterprise-survey-2021-financial-year-provisional-csv.csv\n",
      "D:\\Python_code\\mje\\annual-enterprise-survey-2021-financial-year-provisional-csv.csv\n",
      "txt\n",
      "D:\\Python_code\\txt_folder\\hello.txt\n",
      "D:\\Python_code\\mje\\hello.txt\n",
      "pdf\n",
      "D:\\Python_code\\pdf_folder\\Jai krishan CV (1).pdf\n",
      "D:\\Python_code\\mje\\Jai krishan CV (1).pdf\n",
      "jpg\n",
      "D:\\Python_code\\img_folder\\luffy-8k-gear-5-5k-7680x4320-13561.jpg\n",
      "D:\\Python_code\\mje\\luffy-8k-gear-5-5k-7680x4320-13561.jpg\n",
      "png\n",
      "D:\\Python_code\\img_folder\\shoyo-hinata-just-7680x4320-14062.png\n",
      "D:\\Python_code\\mje\\shoyo-hinata-just-7680x4320-14062.png\n",
      "png\n",
      "D:\\Python_code\\img_folder\\zenitsu-agatsuma-ai-3840x2160-12533.png\n",
      "D:\\Python_code\\mje\\zenitsu-agatsuma-ai-3840x2160-12533.png\n"
     ]
    },
    {
     "name": "stderr",
     "output_type": "stream",
     "text": [
      "<>:3: SyntaxWarning: invalid escape sequence '\\P'\n",
      "<>:3: SyntaxWarning: invalid escape sequence '\\P'\n",
      "C:\\Users\\nehas\\AppData\\Local\\Temp\\ipykernel_3848\\774463013.py:3: SyntaxWarning: invalid escape sequence '\\P'\n",
      "  source_folder=\"D:\\Python_code\\mje\"\n"
     ]
    }
   ],
   "source": [
    "\n",
    "import os \n",
    "import shutil\n",
    "source_folder=\"D:\\Python_code\\mje\"\n",
    "base_path =\"D:\\\\Python_code\\\\\"\n",
    "lst = os.listdir(source_folder) #list of item\n",
    "curent_directory = os.getcwd() # path consider \n",
    "# print(curent_directory)\n",
    "temp = []\n",
    "for item in lst:\n",
    "    complete_path = os.path.join(source_folder,item)\n",
    "    temp.append(complete_path)\n",
    "temp2 = ['jpg','png',]\n",
    "temp3 = ['pdf']\n",
    "temp4 = ['csv']\n",
    "temp5 = ['txt']\n",
    "for i, item  in  enumerate(temp):\n",
    "    path_with_extension = item.split('.')\n",
    "    # print(path_with_extension)1\n",
    "\n",
    "    print(path_with_extension[1])\n",
    "    if path_with_extension[1] in temp2:\n",
    "        os.makedirs('img_folder',exist_ok=True)\n",
    "        destination_path = os.path.join(base_path,'img_folder',lst[i])\n",
    "        print(destination_path)\n",
    "      \n",
    "        print(item)\n",
    "        shutil.copy(item,destination_path)\n",
    "\n",
    "    elif path_with_extension[1] in temp5:\n",
    "        os.makedirs('txt_folder',exist_ok=True)\n",
    "        destination_path = os.path.join(base_path,'txt_folder',lst[i])\n",
    "        print(destination_path)\n",
    "        # print()\n",
    "        print(item)\n",
    "        shutil.copy(item,destination_path) \n",
    "    elif path_with_extension[1] in temp3:\n",
    "        os.makedirs('pdf_folder',exist_ok=True)\n",
    "        destination_path = os.path.join(base_path,'pdf_folder',lst[i])\n",
    "        print(destination_path)\n",
    "        # print()\n",
    "        print(item)\n",
    "        shutil.copy(item,destination_path)\n",
    "    elif path_with_extension[1] in temp4:\n",
    "        os.makedirs('csv_folder',exist_ok=True)\n",
    "        destination_path = os.path.join(base_path,'csv_folder',lst[i])\n",
    "        print(destination_path)\n",
    "        # print()\n",
    "        print(item)\n",
    "        shutil.copy(item,destination_path)     \n",
    "                                                           \n",
    "    else:\n",
    "        print(\"JAI SHREE RAM\")\n",
    "\n"
   ]
  },
  {
   "cell_type": "code",
   "execution_count": 1,
   "metadata": {},
   "outputs": [],
   "source": [
    "import os"
   ]
  },
  {
   "cell_type": "code",
   "execution_count": 4,
   "metadata": {},
   "outputs": [
    {
     "name": "stdout",
     "output_type": "stream",
     "text": [
      "<built-in function getcwd>\n"
     ]
    }
   ],
   "source": [
    "a =os.getcwd\n",
    "print(a)\n"
   ]
  },
  {
   "cell_type": "code",
   "execution_count": null,
   "metadata": {},
   "outputs": [],
   "source": [
    "C:\\Users\\nehas\\Desktop\\New folder\\Python_code\\project.ipynb"
   ]
  }
 ],
 "metadata": {
  "kernelspec": {
   "display_name": "Python 3",
   "language": "python",
   "name": "python3"
  },
  "language_info": {
   "codemirror_mode": {
    "name": "ipython",
    "version": 3
   },
   "file_extension": ".py",
   "mimetype": "text/x-python",
   "name": "python",
   "nbconvert_exporter": "python",
   "pygments_lexer": "ipython3",
   "version": "3.12.2"
  }
 },
 "nbformat": 4,
 "nbformat_minor": 2
}
