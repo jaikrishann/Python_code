{
 "cells": [
  {
   "cell_type": "code",
   "execution_count": 2,
   "metadata": {},
   "outputs": [
    {
     "name": "stdout",
     "output_type": "stream",
     "text": [
      "NO, x is not greater then y\n"
     ]
    }
   ],
   "source": [
    "x = 76\n",
    "y = 28\n",
    "if x>y:\n",
    "    print(\"NO, x is not greater then y\")\n",
    "else:\n",
    "    print(\"yes, greater than y\")\n"
   ]
  },
  {
   "cell_type": "code",
   "execution_count": 4,
   "metadata": {},
   "outputs": [
    {
     "name": "stdout",
     "output_type": "stream",
     "text": [
      "no condition is true\n"
     ]
    }
   ],
   "source": [
    "x = 45\n",
    "y = 78\n",
    "if x>=y and x>y:\n",
    "    print(\"one condition is true\")\n",
    "else:\n",
    "    print(\"no condition is true\")"
   ]
  },
  {
   "cell_type": "code",
   "execution_count": 6,
   "metadata": {},
   "outputs": [
    {
     "name": "stdout",
     "output_type": "stream",
     "text": [
      "condition is not true\n"
     ]
    }
   ],
   "source": [
    "x = int(input(\"Enter number:\"))\n",
    "y = int(input(\"enter number:\"))\n",
    "if x!=y:\n",
    "    print(\"condition is true\")\n",
    "else:\n",
    "    print(\"condition is not true\")"
   ]
  },
  {
   "cell_type": "code",
   "execution_count": 7,
   "metadata": {},
   "outputs": [
    {
     "name": "stdout",
     "output_type": "stream",
     "text": [
      "a and b are equal\n"
     ]
    }
   ],
   "source": [
    "a = 33\n",
    "b = 33\n",
    "if b > a:\n",
    "  print(\"b is greater than a\")\n",
    "elif a == b:\n",
    "  print(\"a and b are equal\")"
   ]
  },
  {
   "cell_type": "code",
   "execution_count": 8,
   "metadata": {},
   "outputs": [
    {
     "name": "stdout",
     "output_type": "stream",
     "text": [
      "condition is not true\n"
     ]
    }
   ],
   "source": [
    "a = 50\n",
    "b = 90 \n",
    "c = 200\n",
    "if a>b and b<c:\n",
    "    print(\"condition is true\")\n",
    "else:\n",
    "    print(\"condition is not true\")"
   ]
  },
  {
   "cell_type": "code",
   "execution_count": 10,
   "metadata": {},
   "outputs": [
    {
     "name": "stdout",
     "output_type": "stream",
     "text": [
      "string is same\n"
     ]
    }
   ],
   "source": [
    "a = (\"python\",\"class\",\"c\")\n",
    "b = (\"python\",\"class\",\"c\")\n",
    "if a==b:\n",
    "    print(\"string is same\")\n",
    "else:\n",
    "    print(\"string is not same\")"
   ]
  },
  {
   "cell_type": "code",
   "execution_count": 11,
   "metadata": {},
   "outputs": [
    {
     "name": "stdout",
     "output_type": "stream",
     "text": [
      "string is same\n"
     ]
    }
   ],
   "source": [
    "a = (\"python\",\"class\",\"c\")\n",
    "b = (\"python\",\"class\",\"c\")\n",
    "if a==b and a+b:\n",
    "    print(\"string is same\")\n",
    "else:\n",
    "    print(\"string is not same\")"
   ]
  },
  {
   "cell_type": "code",
   "execution_count": 15,
   "metadata": {},
   "outputs": [
    {
     "name": "stdout",
     "output_type": "stream",
     "text": [
      "b is greater then a\n"
     ]
    }
   ],
   "source": [
    "a = 90\n",
    "b = 200\n",
    "if b>a:\n",
    "    print(\"b is greater then a\")\n",
    "elif a==b:\n",
    "    print(\"a is equal to b\")\n",
    "elif a>b:\n",
    "    print(\"a is grater then b\")\n",
    "elif a+b:\n",
    "    print(\"sum of both\")\n",
    "elif a>=b:\n",
    "    print(\"condition is true\")\n",
    "else:\n",
    "    print(\"condition is not true\")\n"
   ]
  },
  {
   "cell_type": "code",
   "execution_count": 18,
   "metadata": {},
   "outputs": [
    {
     "name": "stdout",
     "output_type": "stream",
     "text": [
      "x is prime number\n"
     ]
    }
   ],
   "source": [
    "x = int(input(\"Enter number:\"))\n",
    "if x%x==0:\n",
    "    print(\"x is prime number\")\n",
    "else:\n",
    "    print(\"x is not prime number\")\n",
    "    \n",
    "\n"
   ]
  },
  {
   "cell_type": "code",
   "execution_count": 21,
   "metadata": {},
   "outputs": [
    {
     "name": "stdout",
     "output_type": "stream",
     "text": [
      "number is not div\n"
     ]
    }
   ],
   "source": [
    "y = int(input(\"enetr number:\"))\n",
    "if y%5==0 and y%7==0:\n",
    "    print(\"numbers are div\")\n",
    "else:\n",
    "    print(\"number is not div\")"
   ]
  },
  {
   "cell_type": "code",
   "execution_count": 22,
   "metadata": {},
   "outputs": [
    {
     "name": "stdout",
     "output_type": "stream",
     "text": [
      "not eligible\n"
     ]
    }
   ],
   "source": [
    "x = int(input(\"enter number:\"))\n",
    "if x>=18:\n",
    "    print(\"eligible for voting\")\n",
    "else:\n",
    "    print(\"not eligible\")\n"
   ]
  },
  {
   "cell_type": "code",
   "execution_count": 27,
   "metadata": {},
   "outputs": [
    {
     "name": "stdout",
     "output_type": "stream",
     "text": [
      "alphabet is consonent\n"
     ]
    }
   ],
   "source": [
    "x = input(\"enter alphabet:\")\n",
    "if x=='a' or x=='e' or x=='i' or x=='o' or x=='u':\n",
    "    print(\"x is vowel\")\n",
    "else:\n",
    "    print(\"alphabet is consonent\")"
   ]
  },
  {
   "cell_type": "code",
   "execution_count": 32,
   "metadata": {},
   "outputs": [
    {
     "ename": "SyntaxError",
     "evalue": "invalid syntax (737712639.py, line 6)",
     "output_type": "error",
     "traceback": [
      "\u001b[1;36m  Cell \u001b[1;32mIn[32], line 6\u001b[1;36m\u001b[0m\n\u001b[1;33m    elif x=y=z=90:\u001b[0m\n\u001b[1;37m          ^\u001b[0m\n\u001b[1;31mSyntaxError\u001b[0m\u001b[1;31m:\u001b[0m invalid syntax\n"
     ]
    }
   ],
   "source": [
    "y = int(input(\"enter number:\"))\n",
    "x = int(input(\"enter number:\"))\n",
    "z = int(input(\"enter number:\"))\n",
    "if z+y+z!=180:\n",
    "    print(\"triangle is not valid\")\n",
    "elif x=y=z=90:\n",
    "    print(\"right angle triangle\")\n",
    "elif x=y=z<90:\n",
    "    print(\"acute triangle\")\n",
    "else:\n",
    "    print(\"equilateral triangle\")"
   ]
  },
  {
   "cell_type": "code",
   "execution_count": null,
   "metadata": {},
   "outputs": [],
   "source": [
    "\n"
   ]
  },
  {
   "cell_type": "code",
   "execution_count": null,
   "metadata": {},
   "outputs": [],
   "source": []
  }
 ],
 "metadata": {
  "kernelspec": {
   "display_name": "Python 3",
   "language": "python",
   "name": "python3"
  },
  "language_info": {
   "codemirror_mode": {
    "name": "ipython",
    "version": 3
   },
   "file_extension": ".py",
   "mimetype": "text/x-python",
   "name": "python",
   "nbconvert_exporter": "python",
   "pygments_lexer": "ipython3",
   "version": "3.12.2"
  }
 },
 "nbformat": 4,
 "nbformat_minor": 2
}
