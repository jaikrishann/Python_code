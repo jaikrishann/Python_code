{
 "cells": [
  {
   "cell_type": "markdown",
   "id": "37111f67-cbfd-4aa3-bae3-7a39e5c752ee",
   "metadata": {},
   "source": [
    "## comparison operators "
   ]
  },
  {
   "cell_type": "code",
   "execution_count": 1,
   "id": "b217e842-6915-41ff-8203-4c74b2d03634",
   "metadata": {},
   "outputs": [
    {
     "name": "stdout",
     "output_type": "stream",
     "text": [
      "False\n"
     ]
    }
   ],
   "source": [
    "x = 6\n",
    "y = 8 \n",
    "print(x>y) "
   ]
  },
  {
   "cell_type": "code",
   "execution_count": 2,
   "id": "69e5df67-1af1-4edc-bd0e-7e1acda4658e",
   "metadata": {},
   "outputs": [
    {
     "name": "stdout",
     "output_type": "stream",
     "text": [
      "False\n"
     ]
    }
   ],
   "source": [
    "x = 6 \n",
    "y = 8\n",
    "print(x==y)"
   ]
  },
  {
   "cell_type": "code",
   "execution_count": 53,
   "id": "6caf5bbf-9f1e-4684-addd-96519fa81861",
   "metadata": {},
   "outputs": [
    {
     "name": "stdout",
     "output_type": "stream",
     "text": [
      "True\n"
     ]
    }
   ],
   "source": [
    "x = 6 \n",
    "y = 8 \n",
    "print(x!=y)"
   ]
  },
  {
   "cell_type": "markdown",
   "id": "65bcdaeb-85ce-4f03-b62b-d4ad1d647cc7",
   "metadata": {},
   "source": [
    "## assignment op"
   ]
  },
  {
   "cell_type": "code",
   "execution_count": 54,
   "id": "18c5011c-76ca-4ea8-9b0d-fe0d80084861",
   "metadata": {},
   "outputs": [
    {
     "name": "stdout",
     "output_type": "stream",
     "text": [
      "14\n"
     ]
    }
   ],
   "source": [
    "x = 6\n",
    "x += 8\n",
    "print (x)"
   ]
  },
  {
   "cell_type": "code",
   "execution_count": 56,
   "id": "8ef9578c-a760-4ecb-8f73-984fa0522ba8",
   "metadata": {},
   "outputs": [
    {
     "name": "stdout",
     "output_type": "stream",
     "text": [
      "apple\n",
      "papaya\n",
      "orange\n"
     ]
    }
   ],
   "source": [
    "fruits = [\"apple\",\"papaya\",\"orange\"]\n",
    "x,y,z = fruits\n",
    "print(x)\n",
    "print(y)\n",
    "print(z)"
   ]
  },
  {
   "cell_type": "code",
   "execution_count": 9,
   "id": "026c2720-2533-4f55-9fd0-8bee3642cbf4",
   "metadata": {},
   "outputs": [
    {
     "name": "stdout",
     "output_type": "stream",
     "text": [
      "True\n"
     ]
    }
   ],
   "source": [
    "self = \"my name is jai\"\n",
    "print(\"name\" in self)"
   ]
  },
  {
   "cell_type": "code",
   "execution_count": 10,
   "id": "d724b826-a140-4672-bc67-fe56ec688d71",
   "metadata": {},
   "outputs": [
    {
     "name": "stdout",
     "output_type": "stream",
     "text": [
      "True\n"
     ]
    }
   ],
   "source": [
    "self = \"my hobby is playing cricket\"\n",
    "print(\"name\" not in self)\n"
   ]
  },
  {
   "cell_type": "markdown",
   "id": "1c0a5fda-dac5-4297-a5c0-662e2a329418",
   "metadata": {},
   "source": [
    "## indexing"
   ]
  },
  {
   "cell_type": "code",
   "execution_count": 11,
   "id": "4c4ff05f-81e5-42d2-944d-fb7d6bff5eb8",
   "metadata": {},
   "outputs": [
    {
     "name": "stdout",
     "output_type": "stream",
     "text": [
      "h\n"
     ]
    }
   ],
   "source": [
    "variables1 = \"python\"\n",
    "print(variables1[3])"
   ]
  },
  {
   "cell_type": "markdown",
   "id": "c8bdd99e-402b-469a-a174-5d2cc776b69f",
   "metadata": {},
   "source": [
    "## slicing"
   ]
  },
  {
   "cell_type": "code",
   "execution_count": 12,
   "id": "0591addf-fe27-47fa-9123-08ea61dbe688",
   "metadata": {},
   "outputs": [
    {
     "name": "stdout",
     "output_type": "stream",
     "text": [
      "omeg\n"
     ]
    }
   ],
   "source": [
    "x1 = \"homeground\"\n",
    "print(x1[1:5])"
   ]
  },
  {
   "cell_type": "code",
   "execution_count": 13,
   "id": "0589bd8e-bbfc-4153-9492-018dadc4f6c6",
   "metadata": {},
   "outputs": [
    {
     "name": "stdout",
     "output_type": "stream",
     "text": [
      "hmg\n"
     ]
    }
   ],
   "source": [
    "x1 = \"homeground\"\n",
    "print(x1[0:6:2])"
   ]
  },
  {
   "cell_type": "code",
   "execution_count": 14,
   "id": "5567453a-07e4-4af7-b291-0191c51df469",
   "metadata": {},
   "outputs": [
    {
     "name": "stdout",
     "output_type": "stream",
     "text": [
      "bb\n"
     ]
    }
   ],
   "source": [
    "y = \"baseball\"\n",
    "print(y[0:5:4])"
   ]
  },
  {
   "cell_type": "code",
   "execution_count": 16,
   "id": "7fb7c0bd-28a2-4f3b-9348-1b2e588e324b",
   "metadata": {},
   "outputs": [
    {
     "name": "stdout",
     "output_type": "stream",
     "text": [
      "my n\n"
     ]
    }
   ],
   "source": [
    "y = \"my name\"\n",
    "print(y[0:4])\n"
   ]
  },
  {
   "cell_type": "code",
   "execution_count": 17,
   "id": "af85231e-264a-406b-9240-af971fe38012",
   "metadata": {},
   "outputs": [
    {
     "name": "stdout",
     "output_type": "stream",
     "text": [
      "cl\n"
     ]
    }
   ],
   "source": [
    "y = \"pythonclass\"\n",
    "print(y[-5:-3])"
   ]
  },
  {
   "cell_type": "markdown",
   "id": "d3aac16b-b083-4db1-b06e-37124f931445",
   "metadata": {},
   "source": [
    "## modify string"
   ]
  },
  {
   "cell_type": "code",
   "execution_count": 21,
   "id": "a0700ad8-dcdd-4b9f-a2f5-5847ef34bd1a",
   "metadata": {},
   "outputs": [
    {
     "name": "stdout",
     "output_type": "stream",
     "text": [
      "JAI\n"
     ]
    }
   ],
   "source": [
    "name = \"jai\"\n",
    "print(name.upper())"
   ]
  },
  {
   "cell_type": "code",
   "execution_count": 22,
   "id": "3e4329d0-cb64-4c1e-b583-8019cc1020c9",
   "metadata": {},
   "outputs": [
    {
     "name": "stdout",
     "output_type": "stream",
     "text": [
      "basketball\n"
     ]
    }
   ],
   "source": [
    "name = \"BASKETBALL\"\n",
    "print(name.lower())"
   ]
  },
  {
   "cell_type": "markdown",
   "id": "936206f1-c8b5-49f2-aa1d-e65b47c9ac5b",
   "metadata": {},
   "source": [
    "### strip = removing whitespace"
   ]
  },
  {
   "cell_type": "code",
   "execution_count": 5,
   "id": "e3009af7-d7f2-4f3e-963b-2fd9a0ca6541",
   "metadata": {},
   "outputs": [
    {
     "name": "stdout",
     "output_type": "stream",
     "text": [
      "  python coding  \n",
      "python coding\n"
     ]
    }
   ],
   "source": [
    "coding = \"  python coding  \"\n",
    "coding1 = coding.strip()\n",
    "print(coding)\n",
    "print(coding1)"
   ]
  },
  {
   "cell_type": "code",
   "execution_count": 6,
   "id": "b4ba1916-a76f-47a2-bda6-1f4a9c7fdef9",
   "metadata": {},
   "outputs": [
    {
     "name": "stdout",
     "output_type": "stream",
     "text": [
      "my name is shyam\n",
      "my name is jai\n"
     ]
    }
   ],
   "source": [
    "v = \"my name is shyam\"\n",
    "result = v.replace(\"shyam\",\"jai\")\n",
    "print(v)\n",
    "print(result)"
   ]
  },
  {
   "cell_type": "code",
   "execution_count": 34,
   "id": "d0d36b52-da68-4944-b7de-d6c47df5050a",
   "metadata": {},
   "outputs": [
    {
     "name": "stdout",
     "output_type": "stream",
     "text": [
      "['Hello', 'World']\n"
     ]
    }
   ],
   "source": [
    "self = \"Hello,World\"\n",
    "print(self.split(\",\"))"
   ]
  },
  {
   "cell_type": "code",
   "execution_count": 39,
   "id": "d9eb819d-35e3-40c2-8a3d-9f7d205e47c9",
   "metadata": {},
   "outputs": [
    {
     "name": "stdout",
     "output_type": "stream",
     "text": [
      "\n"
     ]
    }
   ],
   "source": [
    "hobby = \"my hobby is playing cricket\"\n",
    "print()"
   ]
  },
  {
   "cell_type": "markdown",
   "id": "8948b928-8587-412d-82b0-b3935c2ae016",
   "metadata": {},
   "source": [
    "### concatenate\n",
    "### joining two strings"
   ]
  },
  {
   "cell_type": "code",
   "execution_count": 4,
   "id": "3ad85a0c-45ae-4c67-9c8a-11ea174763c2",
   "metadata": {},
   "outputs": [
    {
     "name": "stdout",
     "output_type": "stream",
     "text": [
      "mynameisjai\n"
     ]
    }
   ],
   "source": [
    "X = \"myname\"\n",
    "y = \"isjai\"\n",
    "result = X+ \"\" +y\n",
    "print(result)"
   ]
  },
  {
   "cell_type": "code",
   "execution_count": 2,
   "id": "7ccecb90-6816-413d-8a56-a313683a0c70",
   "metadata": {},
   "outputs": [
    {
     "name": "stdout",
     "output_type": "stream",
     "text": [
      "pythonprogramming\n",
      "python programming\n"
     ]
    }
   ],
   "source": [
    "string1 = \"python\"\n",
    "string2 = \"programming\"\n",
    "print(string1 + string2)\n",
    "print(string1+ \" \" +string2)"
   ]
  },
  {
   "cell_type": "code",
   "execution_count": 3,
   "id": "7bb7d324-7619-4e93-a94c-3282953c8a82",
   "metadata": {},
   "outputs": [
    {
     "name": "stdout",
     "output_type": "stream",
     "text": [
      "hobby basketball\n"
     ]
    }
   ],
   "source": [
    "z = \"hobby\"\n",
    "g = \"basketball\"\n",
    "print(z+ \" \" +g)"
   ]
  },
  {
   "cell_type": "code",
   "execution_count": 4,
   "id": "015d1001-d6fc-49c9-9fae-9ab5f326cbaf",
   "metadata": {},
   "outputs": [
    {
     "name": "stdout",
     "output_type": "stream",
     "text": [
      "apple juice\n"
     ]
    }
   ],
   "source": [
    "v = \"apple\"\n",
    "q = \"juice\"\n",
    "print(v+ \" \" +q)"
   ]
  },
  {
   "cell_type": "code",
   "execution_count": 43,
   "id": "42357bdd-798d-4d7b-a4a9-b2ba3a9506cc",
   "metadata": {},
   "outputs": [
    {
     "name": "stdout",
     "output_type": "stream",
     "text": [
      "Enter your name: jai\n"
     ]
    },
    {
     "name": "stdout",
     "output_type": "stream",
     "text": [
      "JAI\n"
     ]
    }
   ],
   "source": [
    "name = input(\"Enter your name:\")\n",
    "print(name.upper())\n"
   ]
  },
  {
   "cell_type": "code",
   "execution_count": 45,
   "id": "2d0a6fff-7c54-468f-9f85-57789afadc3e",
   "metadata": {},
   "outputs": [
    {
     "name": "stdout",
     "output_type": "stream",
     "text": [
      "Enter your name: jai\n"
     ]
    },
    {
     "name": "stdout",
     "output_type": "stream",
     "text": [
      "jai\n"
     ]
    }
   ],
   "source": [
    "name = input(\"Enter your name:\")\n",
    "print(name.lower())"
   ]
  },
  {
   "cell_type": "code",
   "execution_count": 47,
   "id": "05e85d3a-c330-4097-8cb8-b7eb9402d759",
   "metadata": {},
   "outputs": [
    {
     "name": "stdout",
     "output_type": "stream",
     "text": [
      "enter number: 3\n",
      "enter number: 4\n"
     ]
    },
    {
     "name": "stdout",
     "output_type": "stream",
     "text": [
      "7\n"
     ]
    }
   ],
   "source": [
    "x = int(input(\"enter number:\"))\n",
    "y = int(input(\"enter number:\"))\n",
    "print(x+y)"
   ]
  },
  {
   "cell_type": "code",
   "execution_count": 48,
   "id": "c252c4ea-1ba2-44d5-b8ee-5f6148022c77",
   "metadata": {},
   "outputs": [
    {
     "name": "stdout",
     "output_type": "stream",
     "text": [
      "enter number: 4\n",
      "enter number: 5\n"
     ]
    },
    {
     "name": "stdout",
     "output_type": "stream",
     "text": [
      "-1\n"
     ]
    }
   ],
   "source": [
    "x = int(input(\"enter number:\"))\n",
    "y = int(input(\"enter number:\"))\n",
    "print(x-y)"
   ]
  },
  {
   "cell_type": "code",
   "execution_count": 49,
   "id": "f9b6ed82-d4b9-4996-b3de-328f15cf6932",
   "metadata": {},
   "outputs": [
    {
     "name": "stdout",
     "output_type": "stream",
     "text": [
      "enter number: 3\n",
      "enter number: 7\n"
     ]
    },
    {
     "name": "stdout",
     "output_type": "stream",
     "text": [
      "addition of two numbers: 10\n"
     ]
    }
   ],
   "source": [
    "x = int(input(\"enter number:\"))\n",
    "y = int(input(\"enter number:\"))\n",
    "result = x+y\n",
    "print(\"addition of two numbers:\",result)"
   ]
  },
  {
   "cell_type": "markdown",
   "id": "ba53f71a",
   "metadata": {},
   "source": [
    "## Formating\n"
   ]
  },
  {
   "cell_type": "code",
   "execution_count": 8,
   "id": "84c2842e-53c9-4ddc-a98c-bad34fa0346c",
   "metadata": {},
   "outputs": [
    {
     "name": "stdout",
     "output_type": "stream",
     "text": [
      "Jai 22\n"
     ]
    }
   ],
   "source": [
    "Name = \"Jai\"\n",
    "Age = 22\n",
    "print(Name+ \" \" + str(Age))"
   ]
  },
  {
   "cell_type": "code",
   "execution_count": 11,
   "id": "3395bb00-45e5-434f-8076-220565413cf8",
   "metadata": {},
   "outputs": [
    {
     "name": "stdout",
     "output_type": "stream",
     "text": [
      "My name is Jai. I am 22 years old\n"
     ]
    }
   ],
   "source": [
    "Name = \"Jai\"\n",
    "Age = 22\n",
    "result = f\"My name is {Name}. I am {Age} years old\"\n",
    "print(result)"
   ]
  },
  {
   "cell_type": "code",
   "execution_count": 12,
   "id": "5f0c51ee-e159-410f-8ed9-998d51eaa213",
   "metadata": {},
   "outputs": [
    {
     "name": "stdout",
     "output_type": "stream",
     "text": [
      "my name is Jai. I am 22 years old\n"
     ]
    }
   ],
   "source": [
    "Name = \"Jai\"\n",
    "Age = 22\n",
    "result = \"my name is {}. I am {} years old\"\n",
    "print(result.format(Name,Age))"
   ]
  },
  {
   "cell_type": "code",
   "execution_count": 5,
   "id": "3f9e62a4-dbd6-452f-92b4-f89861834c6e",
   "metadata": {},
   "outputs": [],
   "source": [
    "name = input(\"Enter your name:\")\n",
    "age = input(\"Enter your age:\")\n",
    "result = f\"My name is {name}. I am {age} years old\"\n",
    "print(result)"
   ]
  },
  {
   "cell_type": "code",
   "execution_count": 14,
   "id": "7cf07fc2-5836-421e-b179-06cd4836a0e4",
   "metadata": {},
   "outputs": [
    {
     "name": "stdout",
     "output_type": "stream",
     "text": [
      "Enter fruit name: apple\n",
      "Enter vegetable name: potato\n"
     ]
    },
    {
     "name": "stdout",
     "output_type": "stream",
     "text": [
      "My fav fruit is apple and my fav vegetable is potato \n"
     ]
    }
   ],
   "source": [
    "fruit  = input(\"Enter fruit name:\")\n",
    "vegetable = input(\"Enter vegetable name:\")\n",
    "result = f\"My fav fruit is {fruit} and my fav vegetable is {vegetable} \"\n",
    "print(result)"
   ]
  },
  {
   "cell_type": "markdown",
   "id": "191ec7b6-e615-48d8-b395-6c0793064367",
   "metadata": {},
   "source": [
    "## loop on string"
   ]
  },
  {
   "cell_type": "code",
   "execution_count": 16,
   "id": "65328a71-4f2c-4858-bc83-2eede828d62b",
   "metadata": {},
   "outputs": [
    {
     "name": "stdout",
     "output_type": "stream",
     "text": [
      "p\n",
      "y\n",
      "t\n",
      "h\n",
      "o\n",
      "n\n"
     ]
    }
   ],
   "source": [
    "string1 = \"python\"\n",
    "for x in string1:\n",
    "    print(x)"
   ]
  },
  {
   "cell_type": "markdown",
   "id": "c07f41ea-4e27-457c-821f-ebd8d1348fd6",
   "metadata": {},
   "source": [
    "## List\n",
    "#### Lists are used to store diff types of values in a single variable\n",
    "#### lists are denoted by []"
   ]
  },
  {
   "cell_type": "code",
   "execution_count": 17,
   "id": "e4fb7342-e327-4661-ad2d-b9c264cdf1e0",
   "metadata": {},
   "outputs": [
    {
     "name": "stdout",
     "output_type": "stream",
     "text": [
      "[2, 4, 4, 5, 6, 7.4]\n",
      "<class 'list'>\n"
     ]
    }
   ],
   "source": [
    "List1 = [2,4,4,5,6,7.4]                 #assign numerical values\n",
    "print(List1)\n",
    "print(type(List1))"
   ]
  },
  {
   "cell_type": "code",
   "execution_count": 18,
   "id": "a306e508-e471-478b-aac6-c35ed9c0216c",
   "metadata": {},
   "outputs": [
    {
     "name": "stdout",
     "output_type": "stream",
     "text": [
      "['fruits', 'apple', 'banana', 'papaya']\n",
      "<class 'list'>\n"
     ]
    }
   ],
   "source": [
    "list2 = [\"fruits\",\"apple\",\"banana\",\"papaya\"]\n",
    "print(list2)\n",
    "print(type(list2))"
   ]
  },
  {
   "cell_type": "markdown",
   "id": "fa54a40a-84f1-41e0-b462-4eebdb962545",
   "metadata": {},
   "source": [
    "### multiple types of values\n"
   ]
  },
  {
   "cell_type": "code",
   "execution_count": 20,
   "id": "5d7b345f-33f8-4282-955f-bec0956515b0",
   "metadata": {},
   "outputs": [
    {
     "name": "stdout",
     "output_type": "stream",
     "text": [
      "['python', True, 45, 4.6, 'hello']\n"
     ]
    }
   ],
   "source": [
    "list3 = [\"python\", True, 45, 4.6, \"hello\"]\n",
    "print(list3)"
   ]
  },
  {
   "cell_type": "markdown",
   "id": "cf5c703d-33b4-49b2-9e3e-3bbc75d7be41",
   "metadata": {},
   "source": [
    "### List constructor"
   ]
  },
  {
   "cell_type": "code",
   "execution_count": 21,
   "id": "328c28fa-b5c7-44f7-b87a-de4326054de7",
   "metadata": {},
   "outputs": [
    {
     "name": "stdout",
     "output_type": "stream",
     "text": [
      "<class 'list'>\n",
      "['python', 3.4, False, 'programme']\n"
     ]
    }
   ],
   "source": [
    "list4 = list((\"python\",3.4,False,\"programme\"))\n",
    "print(type(list4))\n",
    "print(list4)"
   ]
  },
  {
   "cell_type": "code",
   "execution_count": 23,
   "id": "720c6f94-c3a4-4294-be9e-e4cd9b8ba855",
   "metadata": {},
   "outputs": [
    {
     "name": "stdout",
     "output_type": "stream",
     "text": [
      "<class 'list'>\n",
      "['python', 3.4, False, 'programme']\n",
      "3.4\n"
     ]
    }
   ],
   "source": [
    "list4 = list((\"python\",3.4,False,\"programme\"))\n",
    "print(type(list4))\n",
    "print(list4)\n",
    "print(list4[1])"
   ]
  },
  {
   "cell_type": "code",
   "execution_count": 24,
   "id": "a148f30e-d685-46fd-af82-d7b3eb454b67",
   "metadata": {},
   "outputs": [
    {
     "name": "stdout",
     "output_type": "stream",
     "text": [
      "<class 'list'>\n",
      "['python', 3.4, False, 'programme']\n",
      "False\n"
     ]
    }
   ],
   "source": [
    "list4 = list((\"python\",3.4,False,\"programme\"))\n",
    "print(type(list4))\n",
    "print(list4)\n",
    "print(list4[-2])"
   ]
  },
  {
   "cell_type": "code",
   "execution_count": 25,
   "id": "a39bc65f-2dc8-426e-957e-5d7449c88a84",
   "metadata": {},
   "outputs": [
    {
     "name": "stdout",
     "output_type": "stream",
     "text": [
      "<class 'list'>\n",
      "['python', 3.4, False, 'programme', 'code', 'class', 4, True, 9, 'end']\n",
      "['python', False, 'code', 4, 9]\n"
     ]
    }
   ],
   "source": [
    "list4 = list((\"python\",3.4,False,\"programme\",\"code\",\"class\", 4,True,9,\"end\"))\n",
    "\n",
    "print(type(list4))\n",
    "print(list4)\n",
    "result = list4[0:10:2]                #skip in list\n",
    "print(result)"
   ]
  },
  {
   "cell_type": "markdown",
   "id": "0846d749",
   "metadata": {},
   "source": [
    "## check if item exist"
   ]
  },
  {
   "cell_type": "code",
   "execution_count": 3,
   "id": "5c6dac31",
   "metadata": {},
   "outputs": [
    {
     "name": "stdout",
     "output_type": "stream",
     "text": [
      "<class 'list'>\n",
      "['python', 3.4, False, 'programme', 'code', 'class', 4, True, 9, 'end']\n",
      "item exist in list4\n"
     ]
    }
   ],
   "source": [
    "list4 = list((\"python\",3.4,False,\"programme\",\"code\",\"class\", 4,True,9,\"end\"))\n",
    "\n",
    "print(type(list4))\n",
    "print(list4)\n",
    "if \"python\" in list4:\n",
    "    print(\"item exist in list4\")\n",
    "\n"
   ]
  },
  {
   "cell_type": "code",
   "execution_count": 4,
   "id": "7880e1c0",
   "metadata": {},
   "outputs": [
    {
     "name": "stdout",
     "output_type": "stream",
     "text": [
      "item exist in list5\n"
     ]
    }
   ],
   "source": [
    "list5 = [\"code\",\"block\",\"c\",3.4,True ]\n",
    "if \"code\" in list5:\n",
    "    print(\"item exist in list5\")\n",
    "else:\n",
    "    print(\"item not present in list\")\n",
    "\n"
   ]
  },
  {
   "cell_type": "code",
   "execution_count": 5,
   "id": "f17490fe",
   "metadata": {},
   "outputs": [
    {
     "name": "stdout",
     "output_type": "stream",
     "text": [
      "item not present in list\n"
     ]
    }
   ],
   "source": [
    "list5 = [\"code\",\"block\",\"c\",3.4,True ]\n",
    "if \"False\" in list5:\n",
    "    print(\"item exist in list5\")\n",
    "else:\n",
    "    print(\"item not present in list\")\n"
   ]
  },
  {
   "cell_type": "markdown",
   "id": "52fc8ec2",
   "metadata": {},
   "source": [
    "### change item values"
   ]
  },
  {
   "cell_type": "code",
   "execution_count": 6,
   "id": "7b6d63b3",
   "metadata": {},
   "outputs": [
    {
     "name": "stdout",
     "output_type": "stream",
     "text": [
      "['my', 'name', 'is', 'jai']\n"
     ]
    }
   ],
   "source": [
    "list1 = [\"my\", \"name\",\"is\",\"cricket\"]\n",
    "list1[3] = \"jai\"\n",
    "print(list1)\n",
    "        "
   ]
  },
  {
   "cell_type": "code",
   "execution_count": 7,
   "id": "d42c5000",
   "metadata": {},
   "outputs": [
    {
     "name": "stdout",
     "output_type": "stream",
     "text": [
      "['my', 'hobby', 'is', 'playing', 'basketball']\n"
     ]
    }
   ],
   "source": [
    "list2 = [\"my\", \"hobby\",\"is\",\"playing\",\"apple\"]\n",
    "list2[4] = \"basketball\"\n",
    "print(list2)"
   ]
  },
  {
   "cell_type": "code",
   "execution_count": 13,
   "id": "87f0aa96",
   "metadata": {},
   "outputs": [
    {
     "name": "stdout",
     "output_type": "stream",
     "text": [
      "['my', 'hobby', 'basketball', 67, 'apple']\n"
     ]
    }
   ],
   "source": [
    "list3 =  [\"my\", \"name\",\"is\",\"playing\",\"apple\"]\n",
    "list3[1:4] = \"hobby\",\"basketball\",67\n",
    "print(list3)"
   ]
  },
  {
   "cell_type": "code",
   "execution_count": 14,
   "id": "dd391bae",
   "metadata": {},
   "outputs": [
    {
     "name": "stdout",
     "output_type": "stream",
     "text": [
      "['my', 'name', 'is', 'jai']\n"
     ]
    }
   ],
   "source": [
    "list4 = [\"my\",\"name\",\"is\",\"kook\"]\n",
    "list4[-1] = \"jai\"\n",
    "print(list4)"
   ]
  },
  {
   "cell_type": "markdown",
   "id": "39c2b451",
   "metadata": {},
   "source": [
    "### insert item at a particular place"
   ]
  },
  {
   "cell_type": "code",
   "execution_count": 15,
   "id": "887e04d7",
   "metadata": {},
   "outputs": [
    {
     "name": "stdout",
     "output_type": "stream",
     "text": [
      "['python', 'class', 'code', 'c', 6, 3.4]\n"
     ]
    }
   ],
   "source": [
    "list1 = [\"python\",\"code\",\"c\", 6,3.4]\n",
    "result = list1.insert(1,\"class\")\n",
    "print(list1)"
   ]
  },
  {
   "cell_type": "code",
   "execution_count": 16,
   "id": "6d774f7d",
   "metadata": {},
   "outputs": [
    {
     "name": "stdout",
     "output_type": "stream",
     "text": [
      "['python', 'code', 'c', 6, 3.4, 'mango']\n"
     ]
    }
   ],
   "source": [
    "list2 = [\"python\",\"code\",\"c\", 6,3.4]\n",
    "result = list2.append(\"mango\")\n",
    "print(list2)\n"
   ]
  },
  {
   "cell_type": "markdown",
   "id": "a237d4b7",
   "metadata": {},
   "source": [
    "## extend\n",
    "#### extend items from one listt to another list"
   ]
  },
  {
   "cell_type": "code",
   "execution_count": 21,
   "id": "f5e00e06",
   "metadata": {},
   "outputs": [
    {
     "name": "stdout",
     "output_type": "stream",
     "text": [
      "['my', 'name', 'is', 'jai', 'my', 'hobby', 'is', 'playing', 'cricket']\n"
     ]
    }
   ],
   "source": [
    "list1 = [\"my\",\"name\",\"is\",\"jai\"]\n",
    "list2 = [\"my\", \"hobby\", \"is\" ,\"playing\",\"cricket\"]\n",
    "list1.extend(list2)\n",
    "print(list1)"
   ]
  },
  {
   "cell_type": "code",
   "execution_count": 23,
   "id": "034d2fd2",
   "metadata": {},
   "outputs": [
    {
     "name": "stdout",
     "output_type": "stream",
     "text": [
      "['my', 'name', 'is', 'jai']\n"
     ]
    }
   ],
   "source": [
    "list1 = [\"my\",\"name\",\"is\",\"jai\",\"class\"]\n",
    "list1.remove(\"class\")\n",
    "print(list1)"
   ]
  },
  {
   "cell_type": "code",
   "execution_count": 25,
   "id": "69013916",
   "metadata": {},
   "outputs": [
    {
     "name": "stdout",
     "output_type": "stream",
     "text": [
      "['my', 'name', 'is', 'jai']\n"
     ]
    }
   ],
   "source": [
    "list1 = [\"my\",\"name\",\"is\",\"jai\",\"class\"]\n",
    "list1.pop()                                  #removing last element\n",
    "print(list1)"
   ]
  },
  {
   "cell_type": "code",
   "execution_count": 27,
   "id": "7e8c6f85",
   "metadata": {},
   "outputs": [
    {
     "name": "stdout",
     "output_type": "stream",
     "text": [
      "['name', 'is', 'jai', 'class']\n"
     ]
    }
   ],
   "source": [
    "list1 = [\"my\",\"name\",\"is\",\"jai\",\"class\"]\n",
    "list1.pop(0)                                  #remove indexed number\n",
    "print(list1)"
   ]
  },
  {
   "cell_type": "code",
   "execution_count": 28,
   "id": "5604b1c4",
   "metadata": {},
   "outputs": [
    {
     "name": "stdout",
     "output_type": "stream",
     "text": [
      "[]\n"
     ]
    }
   ],
   "source": [
    "list2 = [\"python\",\"code\",3]\n",
    "list2.clear()\n",
    "print(list2)"
   ]
  },
  {
   "cell_type": "markdown",
   "id": "a875de0b",
   "metadata": {},
   "source": [
    "## Sorting"
   ]
  },
  {
   "cell_type": "code",
   "execution_count": 29,
   "id": "f8a23193",
   "metadata": {},
   "outputs": [
    {
     "name": "stdout",
     "output_type": "stream",
     "text": [
      "['apple', 'cat', 'deer', 'monkey']\n"
     ]
    }
   ],
   "source": [
    "list1 = [\"apple\",\"cat\",\"monkey\",\"deer\"]\n",
    "list1.sort()                             #alphabetically\n",
    "print(list1)"
   ]
  },
  {
   "cell_type": "code",
   "execution_count": 30,
   "id": "b437df02",
   "metadata": {},
   "outputs": [
    {
     "name": "stdout",
     "output_type": "stream",
     "text": [
      "[2, 4, 4, 8, 9]\n"
     ]
    }
   ],
   "source": [
    "list2 = [2,4,8,4,9,]\n",
    "list2.sort()                             \n",
    "print(list2)"
   ]
  },
  {
   "cell_type": "code",
   "execution_count": 32,
   "id": "750f6ef0",
   "metadata": {},
   "outputs": [
    {
     "name": "stdout",
     "output_type": "stream",
     "text": [
      "['monkey', 'deer', 'cat', 'apple']\n"
     ]
    }
   ],
   "source": [
    "list3 = [\"apple\",\"cat\",\"monkey\",\"deer\"]\n",
    "list3.sort(reverse = True)                      #descending order       \n",
    "print(list3)"
   ]
  },
  {
   "cell_type": "code",
   "execution_count": 33,
   "id": "24e40bf5",
   "metadata": {},
   "outputs": [
    {
     "name": "stdout",
     "output_type": "stream",
     "text": [
      "[9, 8, 4, 4, 2]\n"
     ]
    }
   ],
   "source": [
    "list4 = [2,4,8,4,9,]\n",
    "list4.sort(reverse = True)                             \n",
    "print(list4)"
   ]
  },
  {
   "cell_type": "code",
   "execution_count": 35,
   "id": "cda4a2d0",
   "metadata": {},
   "outputs": [
    {
     "name": "stdout",
     "output_type": "stream",
     "text": [
      "['Monkey', 'apple', 'cat', 'deer']\n"
     ]
    }
   ],
   "source": [
    "list5 = [\"apple\",\"cat\",\"Monkey\",\"deer\"]\n",
    "list5.sort()                      #takes capital word first    \n",
    "print(list5)"
   ]
  },
  {
   "cell_type": "code",
   "execution_count": 37,
   "id": "8d7fca42",
   "metadata": {},
   "outputs": [
    {
     "name": "stdout",
     "output_type": "stream",
     "text": [
      "['apple', 'cat', 'deer', 'Monkey']\n"
     ]
    }
   ],
   "source": [
    "list5 = [\"apple\",\"cat\",\"Monkey\",\"deer\"]\n",
    "list5.sort(key = str.lower)                        \n",
    "print(list5)"
   ]
  },
  {
   "cell_type": "markdown",
   "id": "8a6f9b42",
   "metadata": {},
   "source": [
    "## reverse order"
   ]
  },
  {
   "cell_type": "code",
   "execution_count": 39,
   "id": "e8947faf",
   "metadata": {},
   "outputs": [
    {
     "name": "stdout",
     "output_type": "stream",
     "text": [
      "['cat', 'python', 'class']\n"
     ]
    }
   ],
   "source": [
    "list1 = [\"cat\",\"python\",\"class\"]\n",
    "list1.reverse\n",
    "print(list1)"
   ]
  },
  {
   "cell_type": "markdown",
   "id": "c763ed65",
   "metadata": {},
   "source": [
    "### duplicate list"
   ]
  },
  {
   "cell_type": "code",
   "execution_count": 40,
   "id": "5c7a1b02",
   "metadata": {},
   "outputs": [
    {
     "name": "stdout",
     "output_type": "stream",
     "text": [
      "['class', 'python']\n"
     ]
    }
   ],
   "source": [
    "list1 = [\"class\", \"python\"]\n",
    "list2 = [\"code\",\"c\",\"programme\"]\n",
    "list2 = list1\n",
    "print(list2)"
   ]
  },
  {
   "cell_type": "code",
   "execution_count": 41,
   "id": "787457b8",
   "metadata": {},
   "outputs": [
    {
     "name": "stdout",
     "output_type": "stream",
     "text": [
      "['class', 'python']\n"
     ]
    }
   ],
   "source": [
    "list1 = [\"class\", \"python\"]\n",
    "list2 = [\"code\",\"c\",\"programme\"]\n",
    "list2 = list1.copy()\n",
    "print(list2)"
   ]
  },
  {
   "cell_type": "markdown",
   "id": "bf2cd2e5",
   "metadata": {},
   "source": [
    "## join two list"
   ]
  },
  {
   "cell_type": "code",
   "execution_count": 44,
   "id": "d54ebdb7",
   "metadata": {},
   "outputs": [
    {
     "name": "stdout",
     "output_type": "stream",
     "text": [
      "['a', 'b', 1, 2, 3, 4]\n"
     ]
    }
   ],
   "source": [
    "list1 =['a','b']\n",
    "list2 = [1,2,3,4]\n",
    "list3 = list1 + list2\n",
    "print(list3)         "
   ]
  },
  {
   "cell_type": "code",
   "execution_count": 45,
   "id": "493e841c",
   "metadata": {},
   "outputs": [
    {
     "name": "stdout",
     "output_type": "stream",
     "text": [
      "['a', 'b', 1]\n",
      "['a', 'b', 1, 2]\n",
      "['a', 'b', 1, 2, 3]\n",
      "['a', 'b', 1, 2, 3, 4]\n"
     ]
    }
   ],
   "source": [
    "list1 =['a','b']\n",
    "list2 = [1,2,3,4]\n",
    "for x in list2:\n",
    "    list1.append(x)\n",
    "    print(list1)\n",
    "  "
   ]
  },
  {
   "cell_type": "markdown",
   "id": "e1f20fa9",
   "metadata": {},
   "source": [
    "## count method\n"
   ]
  },
  {
   "cell_type": "markdown",
   "id": "f2b516b7",
   "metadata": {},
   "source": []
  },
  {
   "cell_type": "code",
   "execution_count": 50,
   "id": "b89d0623",
   "metadata": {},
   "outputs": [
    {
     "name": "stdout",
     "output_type": "stream",
     "text": [
      "['python', 'class', 'code', 'code', 'c']\n"
     ]
    }
   ],
   "source": [
    "list1 =[\"python\",\"class\",\"code\",\"code\",\"c\"]\n",
    "list1.count(\" \")\n",
    "print(list1)\n"
   ]
  },
  {
   "cell_type": "code",
   "execution_count": null,
   "id": "9c82113d",
   "metadata": {},
   "outputs": [],
   "source": []
  }
 ],
 "metadata": {
  "kernelspec": {
   "display_name": "Python 3 (ipykernel)",
   "language": "python",
   "name": "python3"
  },
  "language_info": {
   "codemirror_mode": {
    "name": "ipython",
    "version": 3
   },
   "file_extension": ".py",
   "mimetype": "text/x-python",
   "name": "python",
   "nbconvert_exporter": "python",
   "pygments_lexer": "ipython3",
   "version": "3.12.2"
  }
 },
 "nbformat": 4,
 "nbformat_minor": 5
}
