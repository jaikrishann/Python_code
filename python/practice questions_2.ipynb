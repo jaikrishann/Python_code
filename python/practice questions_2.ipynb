{
 "cells": [
  {
   "cell_type": "code",
   "execution_count": 5,
   "metadata": {},
   "outputs": [
    {
     "name": "stdout",
     "output_type": "stream",
     "text": [
      "good\n"
     ]
    }
   ],
   "source": [
    "#1. If a student's score is above 90, print \"Excellent,\" else print \"Good.\"\n",
    "\n",
    "x = int(input(\"Enter number:\"))\n",
    "if x>90 or x>=50:\n",
    "    print(\"excellent\")\n",
    "else:\n",
    "    print(\"good\")\n",
    "        "
   ]
  },
  {
   "cell_type": "code",
   "execution_count": 6,
   "metadata": {},
   "outputs": [
    {
     "name": "stdout",
     "output_type": "stream",
     "text": [
      "number is positive\n"
     ]
    }
   ],
   "source": [
    "#2. Check if a number is positive, negative, or zero.\n",
    "\n",
    "x = int(input(\"enter number:\"))\n",
    "if x>0:\n",
    "    print(\"number is positive\")\n",
    "elif x==0:\n",
    "    print(\"number is zero\")\n",
    "else:\n",
    "    print(\"number is negative\")"
   ]
  },
  {
   "cell_type": "code",
   "execution_count": null,
   "metadata": {},
   "outputs": [],
   "source": [
    "#3 Determine if a year is a leap year or not.\n"
   ]
  },
  {
   "cell_type": "code",
   "execution_count": 8,
   "metadata": {},
   "outputs": [
    {
     "ename": "NameError",
     "evalue": "name 'ispalindrome' is not defined",
     "output_type": "error",
     "traceback": [
      "\u001b[1;31m---------------------------------------------------------------------------\u001b[0m",
      "\u001b[1;31mNameError\u001b[0m                                 Traceback (most recent call last)",
      "Cell \u001b[1;32mIn[8], line 4\u001b[0m\n\u001b[0;32m      1\u001b[0m \u001b[38;5;66;03m#4 Check if a given string is a palindrome.\u001b[39;00m\n\u001b[0;32m      3\u001b[0m x \u001b[38;5;241m=\u001b[39m \u001b[38;5;124m\"\u001b[39m\u001b[38;5;124mmadam\u001b[39m\u001b[38;5;124m\"\u001b[39m\n\u001b[1;32m----> 4\u001b[0m result \u001b[38;5;241m=\u001b[39m \u001b[43mispalindrome\u001b[49m(x)\n\u001b[0;32m      5\u001b[0m \u001b[38;5;28;01mif\u001b[39;00m result:\n\u001b[0;32m      6\u001b[0m     \u001b[38;5;28mprint\u001b[39m(\u001b[38;5;124m\"\u001b[39m\u001b[38;5;124myes\u001b[39m\u001b[38;5;124m\"\u001b[39m)\n",
      "\u001b[1;31mNameError\u001b[0m: name 'ispalindrome' is not defined"
     ]
    }
   ],
   "source": [
    "#4 Check if a given string is a palindrome.\n",
    "\n",
    "x = \"madam\"\n",
    "result = ispalindrome(x)\n",
    "if result:\n",
    "    print(\"yes\")\n",
    "else:\n",
    "    print(\"no\")"
   ]
  },
  {
   "cell_type": "code",
   "execution_count": 9,
   "metadata": {},
   "outputs": [
    {
     "name": "stdout",
     "output_type": "stream",
     "text": [
      "not eligible\n"
     ]
    }
   ],
   "source": [
    "#5. If a person's age is above 18, print \"Adult,\" else print \"Minor.\"\n",
    "x = int(input(\"enter number:\"))\n",
    "if x>=18:\n",
    "    print(\"eligible for voting\")\n",
    "else:\n",
    "    print(\"not eligible\")\n"
   ]
  },
  {
   "cell_type": "code",
   "execution_count": 10,
   "metadata": {},
   "outputs": [
    {
     "name": "stdout",
     "output_type": "stream",
     "text": [
      "100\n"
     ]
    }
   ],
   "source": [
    "#6. Determine the largest among three numbers.\n",
    "\n",
    "a = 20\n",
    "b = 30\n",
    "c = 100\n",
    "print(max(a,b,c))"
   ]
  },
  {
   "cell_type": "code",
   "execution_count": 43,
   "metadata": {},
   "outputs": [
    {
     "name": "stdout",
     "output_type": "stream",
     "text": [
      "odd number\n"
     ]
    }
   ],
   "source": [
    "#7. Check if a number is even or odd.\n",
    "\n",
    "x = int(input(\"enter number:\"))\n",
    "if x%2==0:\n",
    "    print(\"even number\")\n",
    "else:\n",
    "    print(\"odd number\")\n",
    "\n",
    "\n",
    "\n"
   ]
  },
  {
   "cell_type": "code",
   "execution_count": 13,
   "metadata": {},
   "outputs": [
    {
     "name": "stdout",
     "output_type": "stream",
     "text": [
      "take an umbrella\n"
     ]
    }
   ],
   "source": [
    "#8. If it's raining, print \"Take an umbrella,\" else print \"Enjoy the weather.\"\n",
    "\n",
    "weather = \"rainy\"\n",
    "if weather == \"rainy\":\n",
    "    print(\"take an umbrella\")\n",
    "else:\n",
    "    print(\"enjoy the weather\")"
   ]
  },
  {
   "cell_type": "code",
   "execution_count": 14,
   "metadata": {},
   "outputs": [
    {
     "name": "stdout",
     "output_type": "stream",
     "text": [
      "obese\n"
     ]
    }
   ],
   "source": [
    "#9. If a person's BMI is above 30, print \"Obese,\" else print \"Normal weight.\"\n",
    "\n",
    "x = int(input(\"enter number:\"))\n",
    "if x>30:\n",
    "    print(\"obese\")\n",
    "else:\n",
    "    print(\"normal weight\")\n"
   ]
  },
  {
   "cell_type": "code",
   "execution_count": 17,
   "metadata": {},
   "outputs": [
    {
     "name": "stdout",
     "output_type": "stream",
     "text": [
      "triangle is not valid\n"
     ]
    }
   ],
   "source": [
    "#10. Determine the type of a triangle based on its angles.\n",
    "y = int(input(\"enter number:\"))\n",
    "x = int(input(\"enter number:\"))\n",
    "z = int(input(\"enter number:\"))\n",
    "if z+y+z!=180:\n",
    "    print(\"triangle is not valid\")\n",
    "elif x>y>z==90:\n",
    "    print(\"right angle triangle\")\n",
    "          elif x<y<z==90:\n",
    "    print(\"acute triangle\")\n",
    "else:\n",
    "    print(\"equilateral triangle\")\n",
    "    # need to ask this\n",
    "    "
   ]
  },
  {
   "cell_type": "code",
   "execution_count": 18,
   "metadata": {},
   "outputs": [
    {
     "name": "stdout",
     "output_type": "stream",
     "text": [
      "number is not div\n"
     ]
    }
   ],
   "source": [
    "#11. Check if a user input number is divisible by both 5 and 7.\n",
    "y = int(input(\"enetr number:\"))\n",
    "if y%5==0 and y%7==0:\n",
    "    print(\"numbers are div\")\n",
    "else:\n",
    "    print(\"number is not div\")"
   ]
  },
  {
   "cell_type": "code",
   "execution_count": 19,
   "metadata": {},
   "outputs": [
    {
     "name": "stdout",
     "output_type": "stream",
     "text": [
      "eligible for voting\n"
     ]
    }
   ],
   "source": [
    "#12. Determine eligibility for voting based on age.\n",
    "x = int(input(\"enter number:\"))\n",
    "if x>=18:\n",
    "    print(\"eligible for voting\")\n",
    "else:\n",
    "    print(\"not eligible\")"
   ]
  },
  {
   "cell_type": "code",
   "execution_count": 22,
   "metadata": {},
   "outputs": [
    {
     "name": "stdout",
     "output_type": "stream",
     "text": [
      "grade = a\n"
     ]
    }
   ],
   "source": [
    "#13. Assign a letter grade based on a student's test score.\n",
    "\n",
    "z = int(input(\"enter number:\"))\n",
    "if z>=90:\n",
    "    print(\"grade = a\")\n",
    "elif z>=80:\n",
    "    print(\"grade = b\")\n",
    "else:\n",
    "    print(\"other grade\")"
   ]
  },
  {
   "cell_type": "code",
   "execution_count": null,
   "metadata": {},
   "outputs": [],
   "source": [
    "#14. Check if a given year is a century or not.\n",
    "\n",
    "y = int(input(\"enter number:\"))\n",
    "if "
   ]
  },
  {
   "cell_type": "code",
   "execution_count": 26,
   "metadata": {},
   "outputs": [
    {
     "name": "stdout",
     "output_type": "stream",
     "text": [
      "rest at home\n"
     ]
    }
   ],
   "source": [
    "#15. If a person has a fever, print \"Consult a doctor,\" else print \"Rest at home.\"\n",
    "\n",
    "person = input(\"person has fever or not:\")\n",
    "if person ==\"fever\":\n",
    "    print(\"consult a doctor\")\n",
    "else:\n",
    "    print(\"rest at home\")"
   ]
  },
  {
   "cell_type": "code",
   "execution_count": 27,
   "metadata": {},
   "outputs": [
    {
     "name": "stdout",
     "output_type": "stream",
     "text": [
      "The season for the entered month is: Spring\n"
     ]
    }
   ],
   "source": [
    "#16. Determine the season based on the month entered.\n",
    "\n",
    "month = int(input(\"Enter the month (1-12): \"))\n",
    "\n",
    "if month in [3, 4, 5]:\n",
    "    season = \"Spring\"\n",
    "elif month in [6, 7, 8]:\n",
    "    season = \"Summer\"\n",
    "elif month in [9, 10, 11]:\n",
    "    season = \"Autumn\"\n",
    "else:\n",
    "    season = \"Winter\"\n",
    "\n",
    "print(\"The season for the entered month is:\", season)\n"
   ]
  },
  {
   "cell_type": "code",
   "execution_count": 28,
   "metadata": {},
   "outputs": [
    {
     "name": "stdout",
     "output_type": "stream",
     "text": [
      "Low Income\n"
     ]
    }
   ],
   "source": [
    "#17. If a person's salary is above $50,000, print \"High income,\" else print \"Low income.\"\n",
    "\n",
    "q = int(input(\"enter salary:\"))\n",
    "if q>50000:\n",
    "    print(\"High Income\")\n",
    "else:\n",
    "    print(\"Low Income\")\n",
    "\n"
   ]
  },
  {
   "cell_type": "code",
   "execution_count": 42,
   "metadata": {},
   "outputs": [
    {
     "name": "stdout",
     "output_type": "stream",
     "text": [
      "x is prime number\n"
     ]
    }
   ],
   "source": [
    "#18. Determine if a given number is a prime number.\n",
    "\n",
    "x = int(input(\"Enter number:\"))\n",
    "if x%x==0:\n",
    "    print(\"x is prime number\")\n",
    "else:\n",
    "    print(\"x is not prime number\")\n",
    "    #need to ask this\n",
    "    "
   ]
  },
  {
   "cell_type": "code",
   "execution_count": 32,
   "metadata": {},
   "outputs": [
    {
     "name": "stdout",
     "output_type": "stream",
     "text": [
      "alphabet is consonent\n"
     ]
    }
   ],
   "source": [
    "#19. Check if a character is a vowel or a consonant.\n",
    "\n",
    "x = input(\"enter alphabet:\")\n",
    "if x=='a' or x=='e' or x=='i' or x=='o' or x=='u':\n",
    "    print(\"x is vowel\")\n",
    "else:\n",
    "    print(\"alphabet is consonent\")"
   ]
  },
  {
   "cell_type": "code",
   "execution_count": 33,
   "metadata": {},
   "outputs": [
    {
     "name": "stdout",
     "output_type": "stream",
     "text": [
      "not valid\n"
     ]
    }
   ],
   "source": [
    "#20. If a user provides valid credentials, print \"Login successful,\" else print \"Invalid credentials.\"\n",
    "\n",
    "j = input(\"enter credentials\")\n",
    "if j == \"correct\":\n",
    "    print(\"valid\")\n",
    "else:\n",
    "    print(\"not valid\")\n"
   ]
  },
  {
   "cell_type": "code",
   "execution_count": 34,
   "metadata": {},
   "outputs": [
    {
     "name": "stdout",
     "output_type": "stream",
     "text": [
      "a is equal to b\n"
     ]
    }
   ],
   "source": [
    "#21. Determine if two numbers are equal, greater, or less than each other.\n",
    "\n",
    "a = int(input(\"enter number1:\"))\n",
    "b = int(input(\"enter number2:\"))\n",
    "if a>b:\n",
    "    print(\"a is greater then b\")\n",
    "elif a==b:\n",
    "    print(\"a is equal to b\")\n",
    "elif a<b:\n",
    "    print(\"a less then b\")\n",
    "else:\n",
    "    print(\"not a valid number\")\n",
    "    "
   ]
  },
  {
   "cell_type": "code",
   "execution_count": 36,
   "metadata": {},
   "outputs": [
    {
     "name": "stdout",
     "output_type": "stream",
     "text": [
      "Access Granted\n"
     ]
    }
   ],
   "source": [
    "#22. If a user has a VIP status, print \"Access granted,\" else print \"Regular access.\"\n",
    "\n",
    "status = input(\"Enter status\")\n",
    "if status ==\"VIP\":\n",
    "    print(\"Access Granted\")\n",
    "else:\n",
    "    print(\"Regular Access\")"
   ]
  },
  {
   "cell_type": "code",
   "execution_count": null,
   "metadata": {},
   "outputs": [],
   "source": [
    "#23. Check if a given point is inside or outside a rectangle.\n",
    "\n"
   ]
  },
  {
   "cell_type": "code",
   "execution_count": 38,
   "metadata": {},
   "outputs": [
    {
     "name": "stdout",
     "output_type": "stream",
     "text": [
      "Join now\n"
     ]
    }
   ],
   "source": [
    "#24. If a person has a membership, print \"Exclusive benefits,\" else print \"Join now.\"\n",
    "\n",
    "membership = input(\"Enter yes or no\")\n",
    "if membership==\"yes\":\n",
    "    print(\"Exclusive benefits\")\n",
    "else:\n",
    "    print(\"Join now\")"
   ]
  },
  {
   "cell_type": "code",
   "execution_count": 40,
   "metadata": {},
   "outputs": [
    {
     "name": "stdout",
     "output_type": "stream",
     "text": [
      "not given\n"
     ]
    }
   ],
   "source": [
    "#25. Determine the eligibility for a discount based on the purchase amount.\n",
    "v = int(input(\"enter price:\"))\n",
    "if v>=100:\n",
    "    print(\"discount given\")\n",
    "else:\n",
    "    print(\"not given\")\n"
   ]
  },
  {
   "cell_type": "markdown",
   "metadata": {},
   "source": [
    "## day 3"
   ]
  },
  {
   "cell_type": "code",
   "execution_count": 12,
   "metadata": {},
   "outputs": [
    {
     "name": "stdout",
     "output_type": "stream",
     "text": [
      "20 + 4 = 24\n"
     ]
    }
   ],
   "source": [
    "#1. Create a simple calculator program that performs addition, subtraction, multiplication, or division based on user input.\n",
    "select = int(input(\"Select operations form 1, 2, 3, 4 :\"))\n",
    "\n",
    "x = int(input(\"Enter first number: \"))\n",
    "y = int(input(\"Enter second number: \"))\n",
    "\n",
    "if select == 1:\n",
    "\tprint(x, \"+\", y, \"=\",x+y)\n",
    "\t\t\t\t\t\n",
    "\t\n",
    "elif select == 2:\n",
    "\tprint(x, \"-\", y, \"=\", x-y)\n",
    "\n",
    "elif select == 3:\n",
    "\tprint(x, \"*\", y, \"=\", x*y)\n",
    "\t\t\t\t\t\n",
    "\n",
    "elif select == 4:\n",
    "\tprint(x, \"/\", y, \"=\", x%y)\n",
    "\t\t\t\t\t\n",
    "else:\n",
    "\tprint(\"Invalid input\")\n"
   ]
  },
  {
   "cell_type": "code",
   "execution_count": 9,
   "metadata": {},
   "outputs": [
    {
     "name": "stdout",
     "output_type": "stream",
     "text": [
      "govind\n"
     ]
    },
    {
     "data": {
      "text/plain": [
       "6"
      ]
     },
     "execution_count": 9,
     "metadata": {},
     "output_type": "execute_result"
    }
   ],
   "source": [
    "#tring Length Checker:\n",
    "    #Implement a program that takes a string as input and prints its length.\n",
    "\n",
    "a = str(input(\"enter string:\"))\n",
    "\n",
    "print(a)\n",
    "len(a)"
   ]
  },
  {
   "cell_type": "code",
   "execution_count": 13,
   "metadata": {},
   "outputs": [
    {
     "ename": "NameError",
     "evalue": "name 'sorted_dict' is not defined",
     "output_type": "error",
     "traceback": [
      "\u001b[1;31m---------------------------------------------------------------------------\u001b[0m",
      "\u001b[1;31mNameError\u001b[0m                                 Traceback (most recent call last)",
      "Cell \u001b[1;32mIn[13], line 10\u001b[0m\n\u001b[0;32m      6\u001b[0m myKeys \u001b[38;5;241m=\u001b[39m \u001b[38;5;28mlist\u001b[39m(myDict\u001b[38;5;241m.\u001b[39mkeys())\n\u001b[0;32m      7\u001b[0m myKeys\u001b[38;5;241m.\u001b[39msort()\n\u001b[1;32m---> 10\u001b[0m \u001b[38;5;28mprint\u001b[39m(\u001b[43msorted_dict\u001b[49m)\n",
      "\u001b[1;31mNameError\u001b[0m: name 'sorted_dict' is not defined"
     ]
    }
   ],
   "source": [
    "#Write a Python program to sort Python Dictionaries by Key or Value?\n",
    "\n",
    "myDict = {'jai': 10, 'krishan': 9,\n",
    "\t\t'ajay': 15, 'yash': 2, 'suraj': 32}\n",
    "\n",
    "myKeys = list(myDict.keys())\n",
    "myKeys.sort()\n",
    "\n"
   ]
  },
  {
   "cell_type": "code",
   "execution_count": 17,
   "metadata": {},
   "outputs": [
    {
     "name": "stdout",
     "output_type": "stream",
     "text": [
      "{'g', 't', 'h', 'n', 's', 'r', 'o', 'l', ' ', 'e', 'w', 'i'}\n"
     ]
    }
   ],
   "source": [
    "#64.\tWrite a Python to find all duplicate characters in string?\n",
    "\n",
    "string1 = \"hello world this is string one\"\n",
    "string2 = \"hello this is string two\"\n",
    "\n",
    "string1 = set(string1)\n",
    "string2 = set(string2)\n",
    "\n",
    "result = string1.intersection(string2)\n",
    "print(result)"
   ]
  },
  {
   "cell_type": "code",
   "execution_count": 1,
   "metadata": {},
   "outputs": [
    {
     "name": "stdout",
     "output_type": "stream",
     "text": [
      "not a special character\n"
     ]
    }
   ],
   "source": [
    "#65.\tWrite a Python Program to check if a string contains any special character?\n",
    "\n",
    "string1 = input(\"enter special character:\")\n",
    "if string1=='!,@,#,$,%,^,&,*,()':\n",
    "    print(\"special character\")\n",
    "else:\n",
    "    print(\"not a special character\")"
   ]
  },
  {
   "cell_type": "code",
   "execution_count": null,
   "metadata": {},
   "outputs": [],
   "source": []
  },
  {
   "cell_type": "code",
   "execution_count": null,
   "metadata": {},
   "outputs": [],
   "source": []
  },
  {
   "cell_type": "code",
   "execution_count": null,
   "metadata": {},
   "outputs": [],
   "source": []
  },
  {
   "cell_type": "code",
   "execution_count": null,
   "metadata": {},
   "outputs": [],
   "source": []
  },
  {
   "cell_type": "code",
   "execution_count": null,
   "metadata": {},
   "outputs": [],
   "source": [
    "\n"
   ]
  }
 ],
 "metadata": {
  "kernelspec": {
   "display_name": "Python 3",
   "language": "python",
   "name": "python3"
  },
  "language_info": {
   "codemirror_mode": {
    "name": "ipython",
    "version": 3
   },
   "file_extension": ".py",
   "mimetype": "text/x-python",
   "name": "python",
   "nbconvert_exporter": "python",
   "pygments_lexer": "ipython3",
   "version": "3.12.2"
  }
 },
 "nbformat": 4,
 "nbformat_minor": 2
}
