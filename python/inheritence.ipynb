{
 "cells": [
  {
   "cell_type": "code",
   "execution_count": 3,
   "metadata": {},
   "outputs": [
    {
     "name": "stdout",
     "output_type": "stream",
     "text": [
      "father class constructor executed !\n",
      "Hii i am son, Rahul kumar\n",
      "Hiii i am father, Mohan Singh and age is : 45\n"
     ]
    }
   ],
   "source": [
    "#oops\n",
    "# Single inheritence\n",
    "# parent class or super class\n",
    "class Father:\n",
    "\n",
    "    def __init__(self,name,age):\n",
    "        self.father_name = name\n",
    "        self.father_age = age\n",
    "        print('father class constructor executed !')\n",
    "\n",
    "\n",
    "    def father_hii(self):\n",
    "        print(f'Hiii i am father, {self.father_name} and age is : {self.father_age}')\n",
    "\n",
    "\n",
    "## child class or derived class , sub class\n",
    "class Son(Father):\n",
    "\n",
    "    def son_hii(self):\n",
    "        print(\"Hii i am son, Rahul kumar\")\n",
    "\n",
    "\n",
    "\n",
    "# father_obj = Father()\n",
    "# father_obj.father_hii()\n",
    "\n",
    "son_obj = Son(name='Mohan Singh',age=45)\n",
    "\n",
    "son_obj.son_hii()\n",
    "\n",
    "son_obj.father_hii()\n",
    "\n",
    "#inheritence\n",
    "\n",
    "# 1. single inheritence\n",
    "# 2. multilevel inheritence \n",
    "# 3. multiple inheritene\n",
    "# 4. Hybrid\n",
    "# 5. hierarchical"
   ]
  },
  {
   "cell_type": "code",
   "execution_count": 13,
   "metadata": {},
   "outputs": [
    {
     "name": "stdout",
     "output_type": "stream",
     "text": [
      "Hiii i am father\n",
      "Hii i am son, Rahul kumar\n",
      "Hii i am Grandson\n",
      "hi i am granddaughter\n"
     ]
    }
   ],
   "source": [
    "#### MULTI-LEVEL INHERITENCE\n",
    "class Father:\n",
    "\n",
    "    # def __init__(self,name,age):\n",
    "    #     self.father_name = name\n",
    "    #     self.father_age = age\n",
    "    #     print('father class constructor executed !')\n",
    "\n",
    "\n",
    "    def father_hii(self):\n",
    "        # print(f'Hiii i am father, {self.father_name} and age is : {self.father_age}')\n",
    "        print(\"Hiii i am father\")\n",
    "\n",
    "\n",
    "\n",
    "## child class or derived class , sub class\n",
    "class Son(Father):\n",
    "\n",
    "    def son_hii(self):\n",
    "        print(\"Hii i am son, Rahul kumar\")\n",
    "\n",
    "\n",
    "class Grandson(Son):\n",
    "    def grandson_hii(self):\n",
    "        print('Hii i am Grandson')\n",
    "\n",
    "\n",
    "class Granddaughter(Grandson):\n",
    "    def granddaughter_hii(self):\n",
    "        print('hi i am granddaughter')\n",
    "\n",
    "son_obj = Son()\n",
    "grand_obj = Grandson()\n",
    "grand_daughter = Granddaughter()\n",
    "grand_daughter.father_hii()\n",
    "grand_daughter.son_hii()\n",
    "grand_daughter.grandson_hii()\n",
    "grand_daughter.granddaughter_hii()\n",
    "    \n",
    "# son_obj.father_hii()\n",
    "# son_obj.son_hii()\n",
    "\n",
    "# grand_obj.grandson_hii()\n",
    "# grand_obj.father_hii()\n",
    "# grand_obj.son_hii()"
   ]
  },
  {
   "cell_type": "code",
   "execution_count": 25,
   "metadata": {},
   "outputs": [
    {
     "name": "stdout",
     "output_type": "stream",
     "text": [
      "grandson constructor\n",
      "Son class constructor executed\n",
      "Hiii i am Grand son, Rohit kumar and age is : 12\n",
      "Hiii i am Son, rahul kumar and age is : 23\n"
     ]
    }
   ],
   "source": [
    "#### MULTI-LEVEL INHERITENCE\n",
    "class Father:\n",
    "\n",
    "    def __init__(self,father_name,father_age):\n",
    "        self.father_name = father_name\n",
    "        self.father_age = father_age\n",
    "        print('father class constructor executed !')\n",
    "\n",
    "\n",
    "    def father_hii(self):\n",
    "        print(f'Hiii i am father, {self.father_name} and age is : {self.father_age}')\n",
    "        # print(\"Hiii i am father\")\n",
    "\n",
    "\n",
    "\n",
    "## child class or derived class , sub class\n",
    "class Son(Father):\n",
    "\n",
    "    def __init__(self,son_name,son_age):\n",
    "        self.son_name = son_name\n",
    "        self.son_age  = son_age\n",
    "        print(\"Son class constructor executed\")\n",
    "\n",
    "\n",
    "\n",
    "    def son_hii(self):\n",
    "        print(f'Hiii i am Son, {self.son_name} and age is : {self.son_age}')\n",
    "\n",
    "\n",
    "class Grandson(Son):\n",
    "    def __init__(self, Grandson_name, Grandson_age,father_name,father_age,son_name,son_age):\n",
    "        self.grandson_name = Grandson_name\n",
    "        self.grandson_age = Grandson_age \n",
    "        print('grandson constructor')\n",
    "\n",
    "        super().__init__(son_name=son_name,son_age=son_age)\n",
    "        \n",
    "\n",
    "    def grandson_hii(self):\n",
    "        print(f'Hiii i am Grand son, {self.grandson_name} and age is : {self.grandson_age}')\n",
    "\n",
    "\n",
    "\n",
    "grandson_obj = Grandson(Grandson_name='Rohit kumar',Grandson_age=12,father_name=\"mohan singh\",father_age=65,son_name='rahul kumar',son_age=23)\n",
    "# son_obj = Son(son_name='rahul kumar',son_age=23)\n",
    "grandson_obj.grandson_hii()\n",
    "grandson_obj.son_hii()"
   ]
  },
  {
   "cell_type": "code",
   "execution_count": 30,
   "metadata": {},
   "outputs": [
    {
     "name": "stdout",
     "output_type": "stream",
     "text": [
      "grandson constructor\n",
      "Son class constructor executed\n",
      "father class constructor executed !\n",
      "Hiii i am Grand son, Rohit kumar and age is : 12\n",
      "Hiii i am Son, rahul kumar and age is : 23\n",
      "Hiii i am father, mohan singh and age is : 65\n"
     ]
    }
   ],
   "source": [
    "#### MULTI-LEVEL INHERITENCE\n",
    "class Father:\n",
    "\n",
    "    def __init__(self,father_name,father_age):\n",
    "        self.father_name = father_name\n",
    "        self.father_age = father_age\n",
    "        print('father class constructor executed !')\n",
    "\n",
    "\n",
    "    def father_hii(self):\n",
    "        print(f'Hiii i am father, {self.father_name} and age is : {self.father_age}')\n",
    "        # print(\"Hiii i am father\")\n",
    "\n",
    "\n",
    "\n",
    "## child class or derived class , sub class\n",
    "class Son(Father):\n",
    "\n",
    "    def __init__(self,son_name,son_age):\n",
    "        self.son_name = son_name\n",
    "        self.son_age  = son_age\n",
    "        print(\"Son class constructor executed\")\n",
    "\n",
    "\n",
    "\n",
    "    def son_hii(self):\n",
    "        print(f'Hiii i am Son, {self.son_name} and age is : {self.son_age}')\n",
    "\n",
    "\n",
    "class Grandson(Son):\n",
    "    def __init__(self, Grandson_name, Grandson_age,father_name,father_age,son_name,son_age):\n",
    "        self.grandson_name = Grandson_name\n",
    "        self.grandson_age = Grandson_age \n",
    "        print('grandson constructor')\n",
    "\n",
    "        Son.__init__(self,son_name=son_name,son_age=son_age)\n",
    "        Father.__init__(self,father_name=father_name,father_age=father_age)\n",
    "        \n",
    "\n",
    "    def grandson_hii(self):\n",
    "        print(f'Hiii i am Grand son, {self.grandson_name} and age is : {self.grandson_age}')\n",
    "\n",
    "\n",
    "\n",
    "grandson_obj = Grandson(Grandson_name='Rohit kumar',Grandson_age=12,father_name=\"mohan singh\",father_age=65,son_name='rahul kumar',son_age=23)\n",
    "# son_obj = Son(son_name='rahul kumar',son_age=23)\n",
    "grandson_obj.grandson_hii()\n",
    "grandson_obj.son_hii()\n",
    "grandson_obj.father_hii()"
   ]
  },
  {
   "cell_type": "code",
   "execution_count": 44,
   "metadata": {},
   "outputs": [
    {
     "name": "stdout",
     "output_type": "stream",
     "text": [
      "Son class constructor executed\n",
      "father class constructor executed !\n",
      "Hiii i am father, mohan singh and age is : 65\n",
      "Hiii i am Son, rahul kumar and age is : 23\n"
     ]
    }
   ],
   "source": [
    "#### MULTI-LEVEL INHERITENCE\n",
    "class Father:\n",
    "\n",
    "    def __init__(self,father_name,father_age):\n",
    "        self.father_name = father_name\n",
    "        self.father_age = father_age\n",
    "        print('father class constructor executed !')\n",
    "\n",
    "\n",
    "    def father_hii(self):\n",
    "        print(f'Hiii i am father, {self.father_name} and age is : {self.father_age}')\n",
    "        # print(\"Hiii i am father\")\n",
    "\n",
    "\n",
    "\n",
    "## child class or derived class , sub class\n",
    "class Son(Father):\n",
    "\n",
    "    def __init__(self,son_name,son_age,father_name,father_age):\n",
    "        self.son_name = son_name\n",
    "        self.son_age  = son_age\n",
    "        print(\"Son class constructor executed\")\n",
    "\n",
    "        # Son.__init__(self,son_name=son_name,son_age=son_age)\n",
    "        super().__init__(father_name=father_name,father_age=father_age)\n",
    "         \n",
    "\n",
    "    def son_hii(self):\n",
    "        print(f'Hiii i am Son, {self.son_name} and age is : {self.son_age}')\n",
    "\n",
    "\n",
    "class Grandson(Son):\n",
    "    def __init__(self, Grandson_name, Grandson_age,father_name,father_age,son_name,son_age):\n",
    "        self.grandson_name = Grandson_name\n",
    "        self.grandson_age = Grandson_age \n",
    "        print('grandson constructor')\n",
    "\n",
    "        Son.__init__(self,son_name=son_name,son_age=son_age)\n",
    "        Father.__init__(self,father_name=father_name,father_age=father_age)\n",
    "        \n",
    "\n",
    "    def grandson_hii(self):\n",
    "        print(f'Hiii i am Grand son, {self.grandson_name} and age is : {self.grandson_age}')\n",
    "\n",
    "\n",
    "\n",
    "# grandson_obj = Grandson(Grandson_name='Rohit kumar',Grandson_age=12,father_name=\"mohan singh\",father_age=65,son_name='rahul kumar',son_age=23)\n",
    "# son_obj = Son(son_name='rahul kumar',son_age=23)\n",
    "# grandson_obj.grandson_hii()\n",
    "# grandson_obj.son_hii()\n",
    "# grandson_obj.father_hii()\n",
    "\n",
    "\n",
    "\n",
    "Son_obj = Son(son_name='rahul kumar',son_age=23,father_name=\"mohan singh\",father_age=65)\n",
    "Son_obj.father_hii()\n",
    "Son_obj.son_hii()"
   ]
  },
  {
   "cell_type": "code",
   "execution_count": 1,
   "metadata": {},
   "outputs": [
    {
     "name": "stdout",
     "output_type": "stream",
     "text": [
      "grandson constructor\n",
      "Son class constructor executed\n",
      "father const executed\n"
     ]
    }
   ],
   "source": [
    "class Father:\n",
    "    def __init__(self,father_name,father_age):\n",
    "      self.father_name = father_name\n",
    "      self.father_age = father_age\n",
    "      print(\"father const executed\")\n",
    "\n",
    "    def father_hii(self): \n",
    "       print(f'Hii i am father,{self.father_name} and age is {self.father_age}') \n",
    "\n",
    "       \n",
    "class Son:\n",
    "\n",
    "    def __init__(self,son_name,son_age):\n",
    "        self.son_name = son_name\n",
    "        self.son_age  = son_age\n",
    "        print(\"Son class constructor executed\")\n",
    "\n",
    "\n",
    "\n",
    "    def son_hii(self):\n",
    "        print(f'Hiii i am Son, {self.son_name} and age is : {self.son_age}')\n",
    "\n",
    "class Grandson(Father, Son):\n",
    "    def __init__(self, Grandson_name, Grandson_age,father_name,father_age,son_name,son_age):\n",
    "        self.grandson_name = Grandson_name\n",
    "        self.grandson_age = Grandson_age \n",
    "        print('grandson constructor')\n",
    "\n",
    "        Son.__init__(self,son_name=son_name,son_age=son_age)\n",
    "        Father.__init__(self,father_name=father_name,father_age=father_age)\n",
    "        \n",
    "\n",
    "    def grandson_hii(self):\n",
    "        print(f'Hiii i am Grand son, {self.grandson_name} and age is : {self.grandson_age}')        \n",
    "\n",
    "\n",
    "grandson_obj = Grandson(Grandson_name='Rohit kumar',Grandson_age=12,father_name=\"mohan singh\",father_age=65,son_name='rahul kumar',son_age=23)       \n",
    "\n",
    "    \n"
   ]
  },
  {
   "cell_type": "code",
   "execution_count": 20,
   "metadata": {},
   "outputs": [
    {
     "name": "stdout",
     "output_type": "stream",
     "text": [
      "This is our average :  6.17\n",
      "Total no. of eve :  5\n",
      "square of the numbers :  [4, 16, 36, 64, 100, 49]\n",
      "total even in square list :  5\n"
     ]
    }
   ],
   "source": [
    "# construct a constructor which can all this\n",
    "# ##avg function with the help of inheritence\n",
    "# count even number\n",
    "# square of the numbers\n",
    "\n",
    "\n",
    "# method resolution order \n",
    "\n",
    "class Sum_calculater:\n",
    "    def __init__(self,numbers):\n",
    "        self.total_sum = sum(numbers)\n",
    "\n",
    "class lenght:\n",
    "    def __init__(self,numbers):\n",
    "        self.length = len(numbers) \n",
    "        self.numbers = numbers\n",
    "\n",
    "    def squareA_number(self):\n",
    "        return [num**2 for num in self.numbers]\n",
    "    \n",
    "\n",
    "\n",
    "\n",
    "    def count_even(self,num):\n",
    "        \n",
    "        return len([num for num in num if num %2==0])   \n",
    "\n",
    "class avg(Sum_calculater, lenght):\n",
    "    def __init__(self,numbers):\n",
    "        Sum_calculater.__init__(self,numbers)\n",
    "        lenght.__init__(self,numbers)\n",
    "\n",
    "\n",
    "    def calculate(self):\n",
    "        total_sum=self.total_sum\n",
    "        total_count= self.length\n",
    "        if total_count == 0:\n",
    "            return None\n",
    "        return total_sum/total_count\n",
    "\n",
    "     \n",
    "numbers = [2,4,6,8,10,7]\n",
    "\n",
    "avgerage = avg(numbers)\n",
    "\n",
    "average_calculated = avgerage.calculate()\n",
    "print(\"This is our average : \",round(average_calculated,2))\n",
    "print(\"Total no. of eve : \",avgerage.count_even(avgerage.numbers))\n",
    "square_numbers = avgerage.squareA_number()\n",
    "print(\"square of the numbers : \",square_numbers)\n",
    "print(\"total even in square list : \",avgerage.count_even(square_numbers))\n",
    "\n",
    "\n"
   ]
  },
  {
   "cell_type": "code",
   "execution_count": null,
   "metadata": {},
   "outputs": [],
   "source": [
    "# 4 lakh\n",
    "# # code optimaization\n",
    "# memory utilaization \n",
    "# time complexity \n",
    "# space complexity\n",
    "# code redability\n",
    "\n",
    "# 1 gb  --- > 1024 mb \n",
    "# 1 mb ---> 1024 kb \n",
    "# 1 kb ---> 1024 bytes \n",
    "# 1 bytes  ---> 2 nibble\n",
    "# 1 nibble --> 4 bits \n",
    "# 1"
   ]
  },
  {
   "cell_type": "code",
   "execution_count": 56,
   "metadata": {},
   "outputs": [
    {
     "data": {
      "text/plain": [
       "[2, 4, 3, 6, 8, 9, 3, 5, 21, 90]"
      ]
     },
     "execution_count": 56,
     "metadata": {},
     "output_type": "execute_result"
    }
   ],
   "source": [
    "lst = \n",
    "lst "
   ]
  },
  {
   "cell_type": "code",
   "execution_count": 100,
   "metadata": {},
   "outputs": [
    {
     "data": {
      "text/plain": [
       "<list_iterator at 0x25048f39090>"
      ]
     },
     "execution_count": 100,
     "metadata": {},
     "output_type": "execute_result"
    }
   ],
   "source": [
    "iterator = iter([2,4,3,6,8,9,3,5,21,90,100])\n",
    "iterator"
   ]
  },
  {
   "cell_type": "code",
   "execution_count": 102,
   "metadata": {},
   "outputs": [
    {
     "data": {
      "text/plain": [
       "11"
      ]
     },
     "execution_count": 102,
     "metadata": {},
     "output_type": "execute_result"
    }
   ],
   "source": [
    "iterator.__length_hint__()"
   ]
  },
  {
   "cell_type": "code",
   "execution_count": null,
   "metadata": {},
   "outputs": [],
   "source": []
  },
  {
   "cell_type": "code",
   "execution_count": 91,
   "metadata": {},
   "outputs": [
    {
     "data": {
      "text/plain": [
       "tuple_iterator"
      ]
     },
     "execution_count": 91,
     "metadata": {},
     "output_type": "execute_result"
    }
   ],
   "source": [
    "type(iterator)"
   ]
  },
  {
   "cell_type": "code",
   "execution_count": 86,
   "metadata": {},
   "outputs": [
    {
     "ename": "StopIteration",
     "evalue": "",
     "output_type": "error",
     "traceback": [
      "\u001b[1;31m---------------------------------------------------------------------------\u001b[0m",
      "\u001b[1;31mStopIteration\u001b[0m                             Traceback (most recent call last)",
      "Cell \u001b[1;32mIn[86], line 1\u001b[0m\n\u001b[1;32m----> 1\u001b[0m \u001b[43miterator\u001b[49m\u001b[38;5;241;43m.\u001b[39;49m\u001b[38;5;21;43m__next__\u001b[39;49m\u001b[43m(\u001b[49m\u001b[43m)\u001b[49m\n",
      "\u001b[1;31mStopIteration\u001b[0m: "
     ]
    }
   ],
   "source": [
    "iterator.__next__()"
   ]
  },
  {
   "cell_type": "code",
   "execution_count": 53,
   "metadata": {},
   "outputs": [],
   "source": [
    "for item in iterator:\n",
    "    print(item)"
   ]
  },
  {
   "cell_type": "code",
   "execution_count": 99,
   "metadata": {},
   "outputs": [
    {
     "name": "stdout",
     "output_type": "stream",
     "text": [
      "time taken by list : 0.08535119999578455\n",
      "\n",
      "Time taken by iterator :  0.07931069999904139\n"
     ]
    }
   ],
   "source": [
    "import time\n",
    "\n",
    "\n",
    "lst = list(range(68978,987867))\n",
    "iterator = iter(list(range(68978,987867)))\n",
    "\n",
    "t1 = time.perf_counter()\n",
    "list_square = [num**2 for num in lst]\n",
    "t2 = time.perf_counter()\n",
    "print('time taken by list :', t2-t1)\n",
    "print()\n",
    "\n",
    "s1 = time.perf_counter()\n",
    "iterator_square = [num**2 for num in iterator]\n",
    "s2 = time.perf_counter()\n",
    "print('Time taken by iterator : ',s2-s1)"
   ]
  },
  {
   "cell_type": "code",
   "execution_count": null,
   "metadata": {},
   "outputs": [],
   "source": [
    "# distingusish btwn iterator , generator  , decorator"
   ]
  },
  {
   "cell_type": "code",
   "execution_count": null,
   "metadata": {},
   "outputs": [],
   "source": [
    "\n"
   ]
  },
  {
   "cell_type": "code",
   "execution_count": 98,
   "metadata": {},
   "outputs": [
    {
     "data": {
      "text/plain": [
       "1712900881.2293363"
      ]
     },
     "execution_count": 98,
     "metadata": {},
     "output_type": "execute_result"
    }
   ],
   "source": [
    "import time \n",
    "t1 = time.time()\n",
    "t1"
   ]
  }
 ],
 "metadata": {
  "kernelspec": {
   "display_name": "Python 3",
   "language": "python",
   "name": "python3"
  },
  "language_info": {
   "codemirror_mode": {
    "name": "ipython",
    "version": 3
   },
   "file_extension": ".py",
   "mimetype": "text/x-python",
   "name": "python",
   "nbconvert_exporter": "python",
   "pygments_lexer": "ipython3",
   "version": "3.12.2"
  }
 },
 "nbformat": 4,
 "nbformat_minor": 2
}
