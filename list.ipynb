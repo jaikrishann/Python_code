{
 "cells": [
  {
   "cell_type": "markdown",
   "metadata": {},
   "source": [
    "## List\n",
    "#### Lists are used to store diff types of values in a single variable\n",
    "#### lists are denoted by []"
   ]
  },
  {
   "cell_type": "code",
   "execution_count": null,
   "metadata": {},
   "outputs": [],
   "source": [
    "list4 = list((\"python\",3.4,False,\"programme\",\"code\",\"class\", 4,True,9,\"end\"))\n",
    "\n",
    "print(type(list4))\n",
    "print(list4)\n",
    "if \"python\" in list4:\n",
    "    print(\"item exist in list4\")\n",
    "\n"
   ]
  }
 ],
 "metadata": {
  "language_info": {
   "name": "python"
  }
 },
 "nbformat": 4,
 "nbformat_minor": 2
}
