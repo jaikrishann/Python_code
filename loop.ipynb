{
 "cells": [
  {
   "cell_type": "markdown",
   "metadata": {},
   "source": [
    "### Loop"
   ]
  },
  {
   "cell_type": "code",
   "execution_count": 2,
   "metadata": {},
   "outputs": [
    {
     "name": "stdout",
     "output_type": "stream",
     "text": [
      "hello world\n",
      "hello world\n",
      "hello world\n",
      "hello world\n",
      "hello world\n",
      "hello world\n",
      "hello world\n",
      "hello world\n"
     ]
    }
   ],
   "source": [
    "print('hello world')\n",
    "print('hello world')\n",
    "print('hello world')\n",
    "print('hello world')\n",
    "print('hello world')\n",
    "print('hello world')\n",
    "print('hello world')\n",
    "print('hello world')\n"
   ]
  },
  {
   "cell_type": "code",
   "execution_count": 4,
   "metadata": {},
   "outputs": [
    {
     "name": "stdout",
     "output_type": "stream",
     "text": [
      "hello world\n",
      "hello world\n",
      "hello world\n",
      "3\n",
      "3\n",
      "3\n",
      "3\n",
      "3\n",
      "3\n",
      "3\n",
      "3\n",
      "3\n",
      "3\n"
     ]
    }
   ],
   "source": [
    "print('hello world')\n",
    "print('hello world')\n",
    "print('hello world')\n",
    "\n",
    "\n",
    "for i in range(10):\n",
    "    num1 = 1 \n",
    "    num2 = 2\n",
    "    result = num1 + num2 \n",
    "    print(result)"
   ]
  },
  {
   "cell_type": "code",
   "execution_count": 8,
   "metadata": {},
   "outputs": [
    {
     "name": "stdout",
     "output_type": "stream",
     "text": [
      "1\n",
      "2\n",
      "3\n",
      "4\n"
     ]
    }
   ],
   "source": [
    "# types \n",
    "# for loop\n",
    "# while loop\n",
    "\n",
    "# range function ending point is not inclusive \n",
    "for i in range(1,5):\n",
    "    print(i)\n",
    "    "
   ]
  },
  {
   "cell_type": "code",
   "execution_count": 11,
   "metadata": {},
   "outputs": [
    {
     "name": "stdout",
     "output_type": "stream",
     "text": [
      "0  hello world\n",
      "1  hello world\n",
      "2  hello world\n",
      "3  hello world\n",
      "4  hello world\n",
      "5  hello world\n",
      "6  hello world\n",
      "7  hello world\n",
      "8  hello world\n",
      "9  hello world\n"
     ]
    }
   ],
   "source": [
    "for i in range(10):\n",
    "    print(i,' hello world')"
   ]
  },
  {
   "cell_type": "code",
   "execution_count": 27,
   "metadata": {},
   "outputs": [
    {
     "name": "stdout",
     "output_type": "stream",
     "text": [
      "numerical\n"
     ]
    }
   ],
   "source": [
    "name = \"upflairs pvt 8 ltd jaipur \"\n",
    "for char in name:\n",
    "    if char == \"8\":\n",
    "        print('numerical')"
   ]
  },
  {
   "cell_type": "code",
   "execution_count": 25,
   "metadata": {},
   "outputs": [],
   "source": [
    "list1 = list(range(1,11))\n",
    "for i in list1:\n",
    "    if i == 90:\n",
    "        print('present')\n",
    "    "
   ]
  },
  {
   "cell_type": "code",
   "execution_count": 29,
   "metadata": {},
   "outputs": [
    {
     "name": "stdout",
     "output_type": "stream",
     "text": [
      "50  pass\n",
      "60  pass\n",
      "25  fail\n",
      "89  pass\n"
     ]
    }
   ],
   "source": [
    "per = [50,60,25,89]\n",
    "for item in per:\n",
    "    if item <=30:\n",
    "        print(item,' fail')\n",
    "    else:\n",
    "        print(item,' pass')\n"
   ]
  },
  {
   "cell_type": "code",
   "execution_count": 31,
   "metadata": {},
   "outputs": [
    {
     "name": "stdout",
     "output_type": "stream",
     "text": [
      "EVEN\n",
      "EVEN\n",
      "ODD\n",
      "ODD\n",
      "EVEN\n"
     ]
    }
   ],
   "source": [
    "per = (50,60,25,89,78)\n",
    "for item in per:\n",
    "    if item % 2 == 0:\n",
    "        print('EVEN')\n",
    "    else:\n",
    "        print('ODD')"
   ]
  },
  {
   "cell_type": "code",
   "execution_count": 37,
   "metadata": {},
   "outputs": [
    {
     "name": "stdout",
     "output_type": "stream",
     "text": [
      "jay\n",
      "5\n",
      "data science\n"
     ]
    }
   ],
   "source": [
    "d = {'name':'jay','roll_no':5,'branch':'data science'}\n",
    "for i in d.values():\n",
    "    print(i)"
   ]
  },
  {
   "cell_type": "code",
   "execution_count": 49,
   "metadata": {},
   "outputs": [],
   "source": [
    "temp = list(d.items())\n",
    "\n",
    "first_tuple = temp[0]\n",
    "first_tuple\n",
    "\n",
    "# tuple unpacking\n",
    "key , value = first_tuple"
   ]
  },
  {
   "cell_type": "code",
   "execution_count": 38,
   "metadata": {},
   "outputs": [
    {
     "name": "stdout",
     "output_type": "stream",
     "text": [
      "name\n",
      "roll_no\n",
      "branch\n"
     ]
    }
   ],
   "source": []
  },
  {
   "cell_type": "code",
   "execution_count": 58,
   "metadata": {},
   "outputs": [
    {
     "name": "stdout",
     "output_type": "stream",
     "text": [
      "name <<<<>>>>>> jay\n",
      "roll_no <<<<>>>>>> 5\n",
      "branch <<<<>>>>>> data science\n"
     ]
    }
   ],
   "source": [
    "d = {'name':'jay','roll_no':5,'branch':'data science'}\n",
    "for key , value in d.items():\n",
    "    print(key ,\"<<<<>>>>>>\", value)"
   ]
  },
  {
   "cell_type": "code",
   "execution_count": 64,
   "metadata": {},
   "outputs": [
    {
     "name": "stdout",
     "output_type": "stream",
     "text": [
      "present\n"
     ]
    }
   ],
   "source": [
    "student_id =  [2,4,6,78,3,9,78,67,54,7,5]\n",
    "for i in student_id:\n",
    "    if i == 7:\n",
    "        print('present')"
   ]
  },
  {
   "cell_type": "code",
   "execution_count": 63,
   "metadata": {},
   "outputs": [
    {
     "name": "stdout",
     "output_type": "stream",
     "text": [
      "1\n",
      "\n",
      "6\n",
      "7\n",
      "8\n",
      "9\n",
      "10\n",
      "2\n",
      "\n",
      "6\n",
      "7\n",
      "8\n",
      "9\n",
      "10\n",
      "3\n",
      "\n",
      "6\n",
      "7\n",
      "8\n",
      "9\n",
      "10\n",
      "4\n",
      "\n",
      "6\n",
      "7\n",
      "8\n",
      "9\n",
      "10\n",
      "5\n",
      "\n",
      "6\n",
      "7\n",
      "8\n",
      "9\n",
      "10\n"
     ]
    }
   ],
   "source": [
    "# nested loop\n",
    "\n",
    "for i in range(1,6):\n",
    "    print(i)\n",
    "    print()\n",
    "\n",
    "    for j in range(6 , 11):\n",
    "        print(j)\n",
    "    for j in range(6 , 11):\n",
    "        print(j)\n",
    "\n",
    "        for j in range(6 , 11):\n",
    "            print(j)\n",
    "\n",
    "\n",
    "## time complexity\n",
    "# space complexity\n",
    "# code readability"
   ]
  },
  {
   "cell_type": "code",
   "execution_count": 67,
   "metadata": {},
   "outputs": [
    {
     "name": "stdout",
     "output_type": "stream",
     "text": [
      "u 2\n",
      "p 3\n",
      "f 1\n",
      "l 2\n",
      "a 2\n",
      "i 2\n",
      "r 2\n",
      "s 1\n",
      "  3\n",
      "p 3\n",
      "v 1\n",
      "t 2\n",
      "  3\n",
      "l 2\n",
      "t 2\n",
      "d 1\n",
      "  3\n",
      "j 1\n",
      "a 2\n",
      "i 2\n",
      "p 3\n",
      "u 2\n",
      "r 2\n"
     ]
    }
   ],
   "source": [
    "name = 'upflairs pvt ltd jaipur'\n",
    "\n",
    "name.count('u')\n",
    "\n",
    "for char in name:\n",
    "    print(char , name.count(char))\n"
   ]
  },
  {
   "cell_type": "code",
   "execution_count": 2,
   "metadata": {},
   "outputs": [
    {
     "name": "stdout",
     "output_type": "stream",
     "text": [
      "1\n",
      "2\n",
      "3\n",
      "4\n",
      "5\n",
      "6\n"
     ]
    }
   ],
   "source": [
    "i = 1\n",
    "while i < 6:\n",
    "    print(i)\n",
    "    i +=1"
   ]
  },
  {
   "cell_type": "code",
   "execution_count": null,
   "metadata": {},
   "outputs": [],
   "source": [
    "# break and continue , enumerate"
   ]
  },
  {
   "cell_type": "code",
   "execution_count": 13,
   "metadata": {},
   "outputs": [
    {
     "name": "stdout",
     "output_type": "stream",
     "text": [
      "4 6\n"
     ]
    }
   ],
   "source": [
    "lst = [34,53,64,2,6,75,75]\n",
    "for i,item in enumerate(lst):\n",
    "    if item == 6:\n",
    "        print(i , item)"
   ]
  },
  {
   "cell_type": "code",
   "execution_count": 21,
   "metadata": {},
   "outputs": [
    {
     "name": "stdout",
     "output_type": "stream",
     "text": [
      "1\n",
      "2\n",
      "3\n",
      "4\n",
      "5\n"
     ]
    }
   ],
   "source": [
    "## break\n",
    "for i in range(1,11):\n",
    "    print(i)\n",
    "    if i == 5:\n",
    "        break "
   ]
  },
  {
   "cell_type": "code",
   "execution_count": 24,
   "metadata": {},
   "outputs": [
    {
     "name": "stdout",
     "output_type": "stream",
     "text": [
      "1\n",
      "2\n",
      "3\n",
      "4\n",
      "5\n",
      "6\n",
      "7\n",
      "8\n",
      "10\n"
     ]
    }
   ],
   "source": [
    "## continue\n",
    "for i in range(1,11):\n",
    "    \n",
    "    if i == 9:\n",
    "        continue \n",
    "    print(i)\n",
    "    "
   ]
  },
  {
   "cell_type": "code",
   "execution_count": 28,
   "metadata": {},
   "outputs": [
    {
     "name": "stdout",
     "output_type": "stream",
     "text": [
      "hello world\n",
      "hello world\n",
      "hello world\n"
     ]
    }
   ],
   "source": [
    "x = 0\n",
    "while x<3:\n",
    "    x = x + 1\n",
    "     \n",
    "    print(\"hello world\")"
   ]
  },
  {
   "cell_type": "code",
   "execution_count": null,
   "metadata": {},
   "outputs": [],
   "source": []
  }
 ],
 "metadata": {
  "kernelspec": {
   "display_name": "Python 3",
   "language": "python",
   "name": "python3"
  },
  "language_info": {
   "codemirror_mode": {
    "name": "ipython",
    "version": 3
   },
   "file_extension": ".py",
   "mimetype": "text/x-python",
   "name": "python",
   "nbconvert_exporter": "python",
   "pygments_lexer": "ipython3",
   "version": "3.12.2"
  }
 },
 "nbformat": 4,
 "nbformat_minor": 2
}
