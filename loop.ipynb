{
 "cells": [
  {
   "cell_type": "markdown",
   "metadata": {},
   "source": [
    "### Loop"
   ]
  },
  {
   "cell_type": "code",
   "execution_count": 2,
   "metadata": {},
   "outputs": [
    {
     "name": "stdout",
     "output_type": "stream",
     "text": [
      "hello world\n",
      "hello world\n",
      "hello world\n",
      "hello world\n",
      "hello world\n",
      "hello world\n",
      "hello world\n",
      "hello world\n"
     ]
    }
   ],
   "source": [
    "print('hello world')\n",
    "print('hello world')\n",
    "print('hello world')\n",
    "print('hello world')\n",
    "print('hello world')\n",
    "print('hello world')\n",
    "print('hello world')\n",
    "print('hello world')\n"
   ]
  },
  {
   "cell_type": "code",
   "execution_count": 4,
   "metadata": {},
   "outputs": [
    {
     "name": "stdout",
     "output_type": "stream",
     "text": [
      "hello world\n",
      "hello world\n",
      "hello world\n",
      "3\n",
      "3\n",
      "3\n",
      "3\n",
      "3\n",
      "3\n",
      "3\n",
      "3\n",
      "3\n",
      "3\n"
     ]
    }
   ],
   "source": [
    "print('hello world')\n",
    "print('hello world')\n",
    "print('hello world')\n",
    "\n",
    "\n",
    "for i in range(10):\n",
    "    num1 = 1 \n",
    "    num2 = 2\n",
    "    result = num1 + num2 \n",
    "    print(result)"
   ]
  },
  {
   "cell_type": "code",
   "execution_count": 8,
   "metadata": {},
   "outputs": [
    {
     "name": "stdout",
     "output_type": "stream",
     "text": [
      "1\n",
      "2\n",
      "3\n",
      "4\n"
     ]
    }
   ],
   "source": [
    "# types \n",
    "# for loop\n",
    "# while loop\n",
    "\n",
    "# range function ending point is not inclusive \n",
    "for i in range(1,5):\n",
    "    print(i)\n",
    "    "
   ]
  },
  {
   "cell_type": "code",
   "execution_count": 11,
   "metadata": {},
   "outputs": [
    {
     "name": "stdout",
     "output_type": "stream",
     "text": [
      "0  hello world\n",
      "1  hello world\n",
      "2  hello world\n",
      "3  hello world\n",
      "4  hello world\n",
      "5  hello world\n",
      "6  hello world\n",
      "7  hello world\n",
      "8  hello world\n",
      "9  hello world\n"
     ]
    }
   ],
   "source": [
    "for i in range(10):\n",
    "    print(i,' hello world')"
   ]
  },
  {
   "cell_type": "code",
   "execution_count": 27,
   "metadata": {},
   "outputs": [
    {
     "name": "stdout",
     "output_type": "stream",
     "text": [
      "numerical\n"
     ]
    }
   ],
   "source": [
    "name = \"upflairs pvt 8 ltd jaipur \"\n",
    "for char in name:\n",
    "    if char == \"8\":\n",
    "        print('numerical')"
   ]
  },
  {
   "cell_type": "code",
   "execution_count": 25,
   "metadata": {},
   "outputs": [],
   "source": [
    "list1 = list(range(1,11))\n",
    "for i in list1:\n",
    "    if i == 90:\n",
    "        print('present')\n",
    "    "
   ]
  },
  {
   "cell_type": "code",
   "execution_count": 29,
   "metadata": {},
   "outputs": [
    {
     "name": "stdout",
     "output_type": "stream",
     "text": [
      "50  pass\n",
      "60  pass\n",
      "25  fail\n",
      "89  pass\n"
     ]
    }
   ],
   "source": [
    "per = [50,60,25,89]\n",
    "for item in per:\n",
    "    if item <=30:\n",
    "        print(item,' fail')\n",
    "    else:\n",
    "        print(item,' pass')\n"
   ]
  },
  {
   "cell_type": "code",
   "execution_count": 31,
   "metadata": {},
   "outputs": [
    {
     "name": "stdout",
     "output_type": "stream",
     "text": [
      "EVEN\n",
      "EVEN\n",
      "ODD\n",
      "ODD\n",
      "EVEN\n"
     ]
    }
   ],
   "source": [
    "per = (50,60,25,89,78)\n",
    "for item in per:\n",
    "    if item % 2 == 0:\n",
    "        print('EVEN')\n",
    "    else:\n",
    "        print('ODD')"
   ]
  },
  {
   "cell_type": "code",
   "execution_count": 37,
   "metadata": {},
   "outputs": [
    {
     "name": "stdout",
     "output_type": "stream",
     "text": [
      "jay\n",
      "5\n",
      "data science\n"
     ]
    }
   ],
   "source": [
    "d = {'name':'jay','roll_no':5,'branch':'data science'}\n",
    "for i in d.values():\n",
    "    print(i)"
   ]
  },
  {
   "cell_type": "code",
   "execution_count": 49,
   "metadata": {},
   "outputs": [],
   "source": [
    "temp = list(d.items())\n",
    "\n",
    "first_tuple = temp[0]\n",
    "first_tuple\n",
    "\n",
    "# tuple unpacking\n",
    "key , value = first_tuple"
   ]
  },
  {
   "cell_type": "code",
   "execution_count": 38,
   "metadata": {},
   "outputs": [
    {
     "name": "stdout",
     "output_type": "stream",
     "text": [
      "name\n",
      "roll_no\n",
      "branch\n"
     ]
    }
   ],
   "source": []
  },
  {
   "cell_type": "code",
   "execution_count": 58,
   "metadata": {},
   "outputs": [
    {
     "name": "stdout",
     "output_type": "stream",
     "text": [
      "name <<<<>>>>>> jay\n",
      "roll_no <<<<>>>>>> 5\n",
      "branch <<<<>>>>>> data science\n"
     ]
    }
   ],
   "source": [
    "d = {'name':'jay','roll_no':5,'branch':'data science'}\n",
    "for key , value in d.items():\n",
    "    print(key ,\"<<<<>>>>>>\", value)"
   ]
  },
  {
   "cell_type": "code",
   "execution_count": 64,
   "metadata": {},
   "outputs": [
    {
     "name": "stdout",
     "output_type": "stream",
     "text": [
      "present\n"
     ]
    }
   ],
   "source": [
    "student_id =  [2,4,6,78,3,9,78,67,54,7,5]\n",
    "for i in student_id:\n",
    "    if i == 7:\n",
    "        print('present')"
   ]
  },
  {
   "cell_type": "code",
   "execution_count": 63,
   "metadata": {},
   "outputs": [
    {
     "name": "stdout",
     "output_type": "stream",
     "text": [
      "1\n",
      "\n",
      "6\n",
      "7\n",
      "8\n",
      "9\n",
      "10\n",
      "2\n",
      "\n",
      "6\n",
      "7\n",
      "8\n",
      "9\n",
      "10\n",
      "3\n",
      "\n",
      "6\n",
      "7\n",
      "8\n",
      "9\n",
      "10\n",
      "4\n",
      "\n",
      "6\n",
      "7\n",
      "8\n",
      "9\n",
      "10\n",
      "5\n",
      "\n",
      "6\n",
      "7\n",
      "8\n",
      "9\n",
      "10\n"
     ]
    }
   ],
   "source": [
    "# nested loop\n",
    "\n",
    "for i in range(1,6):\n",
    "    print(i)\n",
    "    print()\n",
    "\n",
    "    for j in range(6 , 11):\n",
    "        print(j)\n",
    "    for j in range(6 , 11):\n",
    "        print(j)\n",
    "\n",
    "        for j in range(6 , 11):\n",
    "            print(j)\n",
    "\n",
    "\n",
    "## time complexity\n",
    "# space complexity\n",
    "# code readability"
   ]
  },
  {
   "cell_type": "code",
   "execution_count": 67,
   "metadata": {},
   "outputs": [
    {
     "name": "stdout",
     "output_type": "stream",
     "text": [
      "u 2\n",
      "p 3\n",
      "f 1\n",
      "l 2\n",
      "a 2\n",
      "i 2\n",
      "r 2\n",
      "s 1\n",
      "  3\n",
      "p 3\n",
      "v 1\n",
      "t 2\n",
      "  3\n",
      "l 2\n",
      "t 2\n",
      "d 1\n",
      "  3\n",
      "j 1\n",
      "a 2\n",
      "i 2\n",
      "p 3\n",
      "u 2\n",
      "r 2\n"
     ]
    }
   ],
   "source": [
    "name = 'upflairs pvt ltd jaipur'\n",
    "\n",
    "name.count('u')\n",
    "\n",
    "for char in name:\n",
    "    print(char , name.count(char))\n"
   ]
  },
  {
   "cell_type": "code",
   "execution_count": 2,
   "metadata": {},
   "outputs": [
    {
     "name": "stdout",
     "output_type": "stream",
     "text": [
      "1\n",
      "2\n",
      "3\n",
      "4\n",
      "5\n",
      "6\n"
     ]
    }
   ],
   "source": [
    "i = 1\n",
    "while i < 6:\n",
    "    print(i)\n",
    "    i +=1"
   ]
  },
  {
   "cell_type": "code",
   "execution_count": null,
   "metadata": {},
   "outputs": [],
   "source": [
    "# break and continue , enumerate"
   ]
  },
  {
   "cell_type": "code",
   "execution_count": 13,
   "metadata": {},
   "outputs": [
    {
     "name": "stdout",
     "output_type": "stream",
     "text": [
      "4 6\n"
     ]
    }
   ],
   "source": [
    "lst = [34,53,64,2,6,75,75]\n",
    "for i,item in enumerate(lst):\n",
    "    if item == 6:\n",
    "        print(i , item)"
   ]
  },
  {
   "cell_type": "code",
   "execution_count": 21,
   "metadata": {},
   "outputs": [
    {
     "name": "stdout",
     "output_type": "stream",
     "text": [
      "1\n",
      "2\n",
      "3\n",
      "4\n",
      "5\n"
     ]
    }
   ],
   "source": [
    "## break\n",
    "for i in range(1,11):\n",
    "    print(i)\n",
    "    if i == 5:\n",
    "        break "
   ]
  },
  {
   "cell_type": "code",
   "execution_count": 24,
   "metadata": {},
   "outputs": [
    {
     "name": "stdout",
     "output_type": "stream",
     "text": [
      "1\n",
      "2\n",
      "3\n",
      "4\n",
      "5\n",
      "6\n",
      "7\n",
      "8\n",
      "10\n"
     ]
    }
   ],
   "source": [
    "## continue\n",
    "for i in range(1,11):\n",
    "    \n",
    "    if i == 9:\n",
    "        continue \n",
    "    print(i)\n",
    "    "
   ]
  },
  {
   "cell_type": "code",
   "execution_count": 28,
   "metadata": {},
   "outputs": [
    {
     "name": "stdout",
     "output_type": "stream",
     "text": [
      "hello world\n",
      "hello world\n",
      "hello world\n"
     ]
    }
   ],
   "source": [
    "x = 0\n",
    "while x<3:\n",
    "    x = x + 1\n",
    "     \n",
    "    print(\"hello world\")"
   ]
  },
  {
   "cell_type": "code",
   "execution_count": 3,
   "metadata": {},
   "outputs": [
    {
     "name": "stdout",
     "output_type": "stream",
     "text": [
      "504\n"
     ]
    }
   ],
   "source": [
    "x = [2,3,6,9,8,24,67,42,10,76,25,66,89,90,12,14,18,26,4,8,21,98,49,13]\n",
    "temp = 0\n",
    "for i in x:\n",
    "    if i %2==0:\n",
    "        temp += i\n",
    "    else:\n",
    "        # print(\"odd number\")\n",
    "        pass\n",
    "print(temp)\n",
    "    "
   ]
  },
  {
   "cell_type": "code",
   "execution_count": 7,
   "metadata": {},
   "outputs": [],
   "source": [
    "a = 2\n",
    "if a == 2 :\n",
    "    pass\n",
    "else:\n",
    "    print('hii')"
   ]
  },
  {
   "cell_type": "code",
   "execution_count": 43,
   "metadata": {},
   "outputs": [
    {
     "name": "stdout",
     "output_type": "stream",
     "text": [
      "4  * 1  = 4\n",
      "4  * 2  = 8\n",
      "4  * 3  = 12\n",
      "4  * 4  = 16\n",
      "4  * 5  = 20\n",
      "4  * 6  = 24\n",
      "4  * 7  = 28\n",
      "4  * 8  = 32\n",
      "4  * 9  = 36\n",
      "4  * 10  = 40\n"
     ]
    }
   ],
   "source": [
    "y = int(input(\"enter number\"))\n",
    "for i in range(1,11):            \n",
    "   print(f\"{y}  * {i}  = {y*i }\"  )\n",
    "\n",
    "\n",
    "    "
   ]
  },
  {
   "cell_type": "code",
   "execution_count": 50,
   "metadata": {},
   "outputs": [],
   "source": [
    "num = 1\n",
    "while num %2 !=0: \n",
    "   print(f\"{y}  * {i}  = {y*i }\" )\n",
    "   i +=1"
   ]
  },
  {
   "cell_type": "code",
   "execution_count": 28,
   "metadata": {},
   "outputs": [
    {
     "name": "stdout",
     "output_type": "stream",
     "text": [
      "company  upflairs jaipur\n"
     ]
    }
   ],
   "source": [
    "a = \"upflairs\"\n",
    "b = 'jaipur'\n",
    "# print('hello world')\n",
    "# print(a)\n",
    "\n",
    "# print(a,b)\n",
    "print(\"company \",   a,b)\n",
    "# print(f\"company {a} {b}\")\n",
    "\n",
    "# print(2/2)\n",
    "\n",
    "\n",
    "# city = \"jaipur\"\n",
    "# strr  = f\"upflairs pvt ltd jaipur {city} \"\n",
    "# strr"
   ]
  },
  {
   "cell_type": "code",
   "execution_count": null,
   "metadata": {},
   "outputs": [],
   "source": [
    "# min()\n",
    "# max()\n",
    "# sort()\n",
    "# types of function \n",
    "\n",
    "1. built in function  --> min ,  max, sum , print\n",
    "2. user defined function "
   ]
  },
  {
   "cell_type": "code",
   "execution_count": 10,
   "metadata": {},
   "outputs": [
    {
     "name": "stdout",
     "output_type": "stream",
     "text": [
      "good morning\n",
      "Hello welcome to you \n"
     ]
    }
   ],
   "source": [
    "# defining function \n",
    "def hello():\n",
    "    #block of code \n",
    "    print(\"good morning\")\n",
    "    print('Hello welcome to you ')\n",
    "\n",
    "\n",
    " \n",
    "hello()   # calling \n"
   ]
  },
  {
   "cell_type": "code",
   "execution_count": 16,
   "metadata": {},
   "outputs": [
    {
     "name": "stdout",
     "output_type": "stream",
     "text": [
      "hello\n"
     ]
    },
    {
     "data": {
      "text/plain": [
       "15"
      ]
     },
     "execution_count": 16,
     "metadata": {},
     "output_type": "execute_result"
    }
   ],
   "source": [
    "def add():\n",
    "\n",
    "    print('hello')\n",
    "    return 5 + 10\n",
    "    print('hello ')\n",
    "\n",
    "\n",
    "result = add()\n",
    "result"
   ]
  },
  {
   "cell_type": "code",
   "execution_count": 20,
   "metadata": {},
   "outputs": [
    {
     "name": "stdout",
     "output_type": "stream",
     "text": [
      "30\n"
     ]
    }
   ],
   "source": [
    "# without parameter\n",
    "def add():\n",
    "    num1 = 10\n",
    "    num2 = 20\n",
    "    result = num1 + num2\n",
    "    return result\n",
    "\n",
    "output = add()\n",
    "print(output)"
   ]
  },
  {
   "cell_type": "code",
   "execution_count": 31,
   "metadata": {},
   "outputs": [
    {
     "name": "stdout",
     "output_type": "stream",
     "text": [
      "30\n"
     ]
    }
   ],
   "source": [
    "# with parameters\n",
    "\n",
    "def add(num1 ,num2 ):\n",
    "\n",
    "    result = num1 + num2\n",
    "    return result\n",
    "\n",
    "\n",
    "nu1 = 10\n",
    "nu2 = 20\n",
    "output = add( 10,20)\n",
    "print(output)\n"
   ]
  },
  {
   "cell_type": "code",
   "execution_count": 33,
   "metadata": {},
   "outputs": [
    {
     "data": {
      "text/plain": [
       "82"
      ]
     },
     "execution_count": 33,
     "metadata": {},
     "output_type": "execute_result"
    }
   ],
   "source": [
    "add(80,2)"
   ]
  },
  {
   "cell_type": "code",
   "execution_count": 46,
   "metadata": {},
   "outputs": [],
   "source": [
    "def apna_min(lst):\n",
    "    #block of code \n",
    "    minimum = x[0] \n",
    "    for  i in lst:\n",
    "        if minimum > i:\n",
    "            minimum = i\n",
    "\n",
    "    return minimum"
   ]
  },
  {
   "cell_type": "code",
   "execution_count": 48,
   "metadata": {},
   "outputs": [
    {
     "data": {
      "text/plain": [
       "4"
      ]
     },
     "execution_count": 48,
     "metadata": {},
     "output_type": "execute_result"
    }
   ],
   "source": [
    "x = [10,76,25,66,89,90,12,14,18,26,4,8,21,9]\n",
    "apna_min(x)"
   ]
  },
  {
   "cell_type": "code",
   "execution_count": 45,
   "metadata": {},
   "outputs": [
    {
     "data": {
      "text/plain": [
       "1"
      ]
     },
     "execution_count": 45,
     "metadata": {},
     "output_type": "execute_result"
    }
   ],
   "source": [
    "x = [10,76,25,66,89,90,12,14,18,26,4,8,21,98,49,1,3]\n",
    "\n",
    "temp = x[0]    10   , 4  , 1\n",
    "\n",
    "for  i in x:\n",
    "    if temp > i:\n",
    "        temp = i\n",
    "temp"
   ]
  },
  {
   "cell_type": "code",
   "execution_count": 42,
   "metadata": {},
   "outputs": [
    {
     "data": {
      "text/plain": [
       "98"
      ]
     },
     "execution_count": 42,
     "metadata": {},
     "output_type": "execute_result"
    }
   ],
   "source": [
    "max(x)"
   ]
  },
  {
   "cell_type": "code",
   "execution_count": 3,
   "metadata": {},
   "outputs": [
    {
     "data": {
      "text/plain": [
       "76"
      ]
     },
     "execution_count": 3,
     "metadata": {},
     "output_type": "execute_result"
    }
   ],
   "source": [
    "lst = [20,56,34,76,34,54,23,43,53,65]\n",
    "max(lst)"
   ]
  },
  {
   "cell_type": "code",
   "execution_count": null,
   "metadata": {},
   "outputs": [],
   "source": [
    "## sort()  --> ascending\n",
    "#                descending order\n",
    "\n",
    "\n",
    "#table --> generate_table(num)\n",
    "\n",
    "#square find function square(LST)  return square of all element\n",
    "#average find function average(lst)  return average of all elements from given list"
   ]
  },
  {
   "cell_type": "code",
   "execution_count": 1,
   "metadata": {},
   "outputs": [],
   "source": [
    "#square find function square(LST)  return square of all element\n",
    "\n",
    "def square_element(input_list):\n",
    "    return[x**2 for x in input_list]\n",
    "\n",
    "    "
   ]
  },
  {
   "cell_type": "code",
   "execution_count": 4,
   "metadata": {},
   "outputs": [
    {
     "name": "stdout",
     "output_type": "stream",
     "text": [
      "squared_list: [64, 81, 36, 4, 3025]\n"
     ]
    }
   ],
   "source": [
    "numbers = [8,9,6,2,55]\n",
    "square_list = square_element(numbers) \n",
    "print(\"squared_list:\" , square_list )"
   ]
  },
  {
   "cell_type": "code",
   "execution_count": 5,
   "metadata": {},
   "outputs": [],
   "source": [
    "def avg_fun(input_lst):\n",
    "    return sum(input_lst)/len(input_lst)"
   ]
  },
  {
   "cell_type": "code",
   "execution_count": 6,
   "metadata": {},
   "outputs": [
    {
     "name": "stdout",
     "output_type": "stream",
     "text": [
      "avg_lst: 6.0\n"
     ]
    }
   ],
   "source": [
    "z = [2,4,6,8,10]\n",
    "avg_lst = avg_fun(z)\n",
    "print(\"avg_lst:\" , avg_lst)"
   ]
  },
  {
   "cell_type": "code",
   "execution_count": 1,
   "metadata": {},
   "outputs": [],
   "source": [
    "def generate_table(num):\n",
    "    for i in range(1,11):\n",
    "        result = num * i \n",
    "        print(result)\n",
    "    "
   ]
  },
  {
   "cell_type": "code",
   "execution_count": 3,
   "metadata": {},
   "outputs": [
    {
     "name": "stdout",
     "output_type": "stream",
     "text": [
      "5\n",
      "10\n",
      "15\n",
      "20\n",
      "25\n",
      "30\n",
      "35\n",
      "40\n",
      "45\n",
      "50\n",
      "None\n"
     ]
    }
   ],
   "source": [
    "x = 5\n",
    "table = generate_table(x)\n",
    "print(table)"
   ]
  },
  {
   "cell_type": "code",
   "execution_count": 7,
   "metadata": {},
   "outputs": [
    {
     "name": "stdout",
     "output_type": "stream",
     "text": [
      "[25, 4, 9, 16]\n"
     ]
    }
   ],
   "source": [
    "def square_element(input_list):\n",
    "    temp = []\n",
    "    for x in input_list:\n",
    "        temp.append(x**2)\n",
    "    return temp\n",
    "    \n",
    "\n",
    "output = square_element([5,2,3,4])\n",
    "print(output)\n"
   ]
  },
  {
   "cell_type": "code",
   "execution_count": 8,
   "metadata": {},
   "outputs": [
    {
     "data": {
      "text/plain": [
       "13.5"
      ]
     },
     "execution_count": 8,
     "metadata": {},
     "output_type": "execute_result"
    }
   ],
   "source": [
    "def avg_fun(input_lst):\n",
    "    return sum(input_lst)/len(input_lst)\n",
    "\n",
    "avg_fun([25, 4, 9, 16])"
   ]
  },
  {
   "cell_type": "code",
   "execution_count": 10,
   "metadata": {},
   "outputs": [
    {
     "data": {
      "text/plain": [
       "13.5"
      ]
     },
     "execution_count": 10,
     "metadata": {},
     "output_type": "execute_result"
    }
   ],
   "source": [
    "x = [25, 4, 9, 16]\n",
    "temp = 0\n",
    "for i in x:\n",
    "    temp+=i\n",
    "temp/len(x)"
   ]
  },
  {
   "cell_type": "code",
   "execution_count": 30,
   "metadata": {},
   "outputs": [
    {
     "data": {
      "text/plain": [
       "[25, 4, 9, 16]"
      ]
     },
     "execution_count": 30,
     "metadata": {},
     "output_type": "execute_result"
    }
   ],
   "source": [
    "# built in function \n",
    "# map \n",
    "# filter \n",
    "\n",
    "\n",
    "# >>>> map(function , iterable)\n",
    "lst = [5,2,3,4]\n",
    "\n",
    "def square_function(x):\n",
    "    return x**2\n",
    "\n",
    "list(map(square_function,lst))\n",
    "\n"
   ]
  },
  {
   "cell_type": "code",
   "execution_count": 33,
   "metadata": {},
   "outputs": [
    {
     "name": "stdout",
     "output_type": "stream",
     "text": [
      "[7, 4, 5, 6]\n"
     ]
    }
   ],
   "source": [
    "def apna_map(fun,lst):\n",
    "    temp = []\n",
    "    for item in lst:\n",
    "        output = fun(item)   ## calling function inside the function\n",
    "        temp.append(output)\n",
    "    return temp\n",
    "    \n",
    "\n",
    "lst = [5,2,3,4]\n",
    "\n",
    "def square_function(x):\n",
    "    return x**2\n",
    "\n",
    "def incrementbytwo(x):\n",
    "    return x+2\n",
    "\n",
    "output = apna_map(incrementbytwo,lst)\n",
    "print(output)\n",
    "    "
   ]
  },
  {
   "cell_type": "code",
   "execution_count": 53,
   "metadata": {},
   "outputs": [
    {
     "data": {
      "text/plain": [
       "[3, 53, 5, 45, 765, 5, 75, 73, 65, 45, 9]"
      ]
     },
     "execution_count": 53,
     "metadata": {},
     "output_type": "execute_result"
    }
   ],
   "source": [
    "# filter\n",
    "\n",
    "lst = [3,53,5,45,765,5,76,75,73,98,6,65,45,44,9]\n",
    "lst\n",
    "\n",
    "def even_filter(x):\n",
    "    return x < 10 \n",
    "\n",
    "# list(filter(even_filter,lst))\n",
    "list(filter(lambda x : x%2!=0  ,lst))\n"
   ]
  },
  {
   "cell_type": "code",
   "execution_count": 48,
   "metadata": {},
   "outputs": [
    {
     "data": {
      "text/plain": [
       "15"
      ]
     },
     "execution_count": 48,
     "metadata": {},
     "output_type": "execute_result"
    }
   ],
   "source": [
    "# lambda function\n",
    "\n",
    "\n",
    "x = lambda x:x+5\n",
    "x(10)"
   ]
  },
  {
   "cell_type": "code",
   "execution_count": 49,
   "metadata": {},
   "outputs": [
    {
     "data": {
      "text/plain": [
       "20"
      ]
     },
     "execution_count": 49,
     "metadata": {},
     "output_type": "execute_result"
    }
   ],
   "source": [
    "add = lambda x , y : x + y\n",
    "add(10,10)"
   ]
  },
  {
   "cell_type": "code",
   "execution_count": 50,
   "metadata": {},
   "outputs": [
    {
     "data": {
      "text/plain": [
       "[25, 4, 9, 16]"
      ]
     },
     "execution_count": 50,
     "metadata": {},
     "output_type": "execute_result"
    }
   ],
   "source": [
    "lst = [5,2,3,4]\n",
    "\n",
    "list(map(lambda x : x**2,lst))"
   ]
  },
  {
   "cell_type": "markdown",
   "metadata": {},
   "source": [
    "### list comprehension"
   ]
  },
  {
   "cell_type": "code",
   "execution_count": 54,
   "metadata": {},
   "outputs": [
    {
     "data": {
      "text/plain": [
       "[25, 4, 9, 16]"
      ]
     },
     "execution_count": 54,
     "metadata": {},
     "output_type": "execute_result"
    }
   ],
   "source": [
    "lst = [5,2,3,4]\n",
    "squares = [i**2 for i in lst]\n",
    "squares"
   ]
  },
  {
   "cell_type": "code",
   "execution_count": 67,
   "metadata": {},
   "outputs": [
    {
     "data": {
      "text/plain": [
       "[10.90909090909091,\n",
       " 11.90909090909091,\n",
       " 12.90909090909091,\n",
       " 13.90909090909091,\n",
       " 41.90909090909091,\n",
       " 9.90909090909091,\n",
       " 15.90909090909091,\n",
       " 11.90909090909091,\n",
       " 12.90909090909091,\n",
       " 9.90909090909091,\n",
       " 21.90909090909091]"
      ]
     },
     "execution_count": 67,
     "metadata": {},
     "output_type": "execute_result"
    }
   ],
   "source": [
    "list1 = [3,4,5,6,34,2,8,4,5,2,14]\n",
    "temp = 0\n",
    "\n",
    "def avg_function(list):\n",
    "    temp = 0\n",
    "    for i in list:\n",
    "         temp+=i\n",
    "    output=temp/len(list)\n",
    "    return output\n",
    "    \n",
    "\n",
    "q =  avg_function(list1)   \n",
    "\n",
    "list(filter(lambda x :x>=q , list1))\n",
    "\n",
    "list(map(lambda x : x+q, list1))\n"
   ]
  },
  {
   "cell_type": "code",
   "execution_count": 65,
   "metadata": {},
   "outputs": [
    {
     "data": {
      "text/plain": [
       "7.909090909090909"
      ]
     },
     "execution_count": 65,
     "metadata": {},
     "output_type": "execute_result"
    }
   ],
   "source": [
    "q "
   ]
  },
  {
   "cell_type": "code",
   "execution_count": null,
   "metadata": {},
   "outputs": [],
   "source": [
    "def apna_map(fun,lst):\n",
    "    temp = []\n",
    "    for item in lst:\n",
    "        output = fun(item)   ## calling function inside the function\n",
    "        temp.append(output)\n",
    "    return temp\n",
    "\n",
    "\n",
    "\n"
   ]
  },
  {
   "cell_type": "code",
   "execution_count": 68,
   "metadata": {},
   "outputs": [],
   "source": [
    "def apna_filter(fun,list):\n",
    "    temp = []\n",
    "    for item in lst:\n",
    "        output = fun(item)\n",
    "        temp.append(output)\n",
    "    return temp"
   ]
  },
  {
   "cell_type": "code",
   "execution_count": null,
   "metadata": {},
   "outputs": [],
   "source": [
    "*\n",
    "**\n",
    "***\n",
    "****\n",
    "*****\n",
    "\n",
    "\n",
    "1\n",
    "1 2\n",
    "1 2 3\n",
    "1 2 3 4\n",
    "1 2 3 4 5\n"
   ]
  },
  {
   "cell_type": "code",
   "execution_count": 2,
   "metadata": {},
   "outputs": [
    {
     "name": "stdout",
     "output_type": "stream",
     "text": [
      "double the output of number 15 = 30\n"
     ]
    }
   ],
   "source": [
    "#Write a Python program to create a function that takes one argument, and that argument will be multiplied with an unknown given number.\n",
    "\n",
    "def fun_multiply(n):\n",
    "    return lambda x: x*n\n",
    "\n",
    "result = fun_multiply(2)\n",
    "print(\"double the output of number 15 =\", result(15))"
   ]
  },
  {
   "cell_type": "code",
   "execution_count": 6,
   "metadata": {},
   "outputs": [
    {
     "ename": "AttributeError",
     "evalue": "'str' object has no attribute 'starting'",
     "output_type": "error",
     "traceback": [
      "\u001b[1;31m---------------------------------------------------------------------------\u001b[0m",
      "\u001b[1;31mAttributeError\u001b[0m                            Traceback (most recent call last)",
      "Cell \u001b[1;32mIn[6], line 7\u001b[0m\n\u001b[0;32m      1\u001b[0m \u001b[38;5;66;03m#Write a Python program to find if a given string starts with a given character using Lambda.\u001b[39;00m\n\u001b[0;32m      4\u001b[0m starting \u001b[38;5;241m=\u001b[39m \u001b[38;5;28;01mlambda\u001b[39;00m x: \u001b[38;5;28;01mTrue\u001b[39;00m \u001b[38;5;28;01mif\u001b[39;00m x\u001b[38;5;241m.\u001b[39mstarting(\u001b[38;5;124m'\u001b[39m\u001b[38;5;124mP\u001b[39m\u001b[38;5;124m'\u001b[39m) \u001b[38;5;28;01melse\u001b[39;00m \u001b[38;5;28;01mFalse\u001b[39;00m\n\u001b[1;32m----> 7\u001b[0m \u001b[38;5;28mprint\u001b[39m(\u001b[43mstarting\u001b[49m\u001b[43m(\u001b[49m\u001b[38;5;124;43m'\u001b[39;49m\u001b[38;5;124;43mPython\u001b[39;49m\u001b[38;5;124;43m'\u001b[39;49m\u001b[43m)\u001b[49m)\n",
      "Cell \u001b[1;32mIn[6], line 4\u001b[0m, in \u001b[0;36m<lambda>\u001b[1;34m(x)\u001b[0m\n\u001b[0;32m      1\u001b[0m \u001b[38;5;66;03m#Write a Python program to find if a given string starts with a given character using Lambda.\u001b[39;00m\n\u001b[1;32m----> 4\u001b[0m starting \u001b[38;5;241m=\u001b[39m \u001b[38;5;28;01mlambda\u001b[39;00m x: \u001b[38;5;28;01mTrue\u001b[39;00m \u001b[38;5;28;01mif\u001b[39;00m \u001b[43mx\u001b[49m\u001b[38;5;241;43m.\u001b[39;49m\u001b[43mstarting\u001b[49m(\u001b[38;5;124m'\u001b[39m\u001b[38;5;124mP\u001b[39m\u001b[38;5;124m'\u001b[39m) \u001b[38;5;28;01melse\u001b[39;00m \u001b[38;5;28;01mFalse\u001b[39;00m\n\u001b[0;32m      7\u001b[0m \u001b[38;5;28mprint\u001b[39m(starting(\u001b[38;5;124m'\u001b[39m\u001b[38;5;124mPython\u001b[39m\u001b[38;5;124m'\u001b[39m))\n",
      "\u001b[1;31mAttributeError\u001b[0m: 'str' object has no attribute 'starting'"
     ]
    }
   ],
   "source": [
    "#Write a Python program to find if a given string starts with a given character using Lambda.\n",
    "\n",
    "\n",
    "starting = lambda x: True if x.starting('P') else False\n",
    "\n",
    "\n",
    "print(starting('Python'))"
   ]
  },
  {
   "cell_type": "code",
   "execution_count": 7,
   "metadata": {},
   "outputs": [
    {
     "name": "stdout",
     "output_type": "stream",
     "text": [
      "[19, 65, 57, 39, 152, 190]\n"
     ]
    }
   ],
   "source": [
    "# Write a Python program to find numbers divisible by nineteen or thirteen from a list of numbers using Lambda.\n",
    "\n",
    "x = [19, 65, 57, 39, 152, 639, 121, 44, 90, 190]\n",
    "\n",
    "output = list(filter(lambda x:(x%19==0 or x%13==0) , x))\n",
    "\n",
    "print(output)\n",
    "\n"
   ]
  },
  {
   "cell_type": "code",
   "execution_count": 8,
   "metadata": {},
   "outputs": [
    {
     "name": "stdout",
     "output_type": "stream",
     "text": [
      "*\n",
      "**\n",
      "***\n",
      "****\n",
      "*****\n"
     ]
    }
   ],
   "source": [
    "#*\n",
    "#**\n",
    "#***\n",
    "#****\n",
    "#*****\n",
    "\n",
    "for i in range(1,6):\n",
    "    print(\"*\" * i )\n",
    "\n"
   ]
  },
  {
   "cell_type": "code",
   "execution_count": 12,
   "metadata": {},
   "outputs": [
    {
     "name": "stdout",
     "output_type": "stream",
     "text": [
      "1\n",
      "1\n",
      "2\n",
      "1\n",
      "2\n",
      "3\n",
      "1\n",
      "2\n",
      "3\n",
      "4\n",
      "1\n",
      "2\n",
      "3\n",
      "4\n",
      "5\n",
      "\n"
     ]
    }
   ],
   "source": [
    "#1\n",
    "#1 2\n",
    "#1 2 3\n",
    "#1 2 3 4\n",
    "#1 2 3 4 5\n",
    "\n",
    "for i in range(1,6):\n",
    "    for j in range(1,i+1):\n",
    "        print(j)\n",
    "print()\n"
   ]
  },
  {
   "cell_type": "code",
   "execution_count": 20,
   "metadata": {},
   "outputs": [],
   "source": [
    "\n",
    "def func1(list):\n",
    "    temp = 0\n",
    "    for i in list:\n",
    "         if i%2==0:\n",
    "              temp+=i\n",
    "          \n",
    "    return   temp \n",
    "         \n",
    "         "
   ]
  },
  {
   "cell_type": "code",
   "execution_count": 21,
   "metadata": {},
   "outputs": [
    {
     "data": {
      "text/plain": [
       "12"
      ]
     },
     "execution_count": 21,
     "metadata": {},
     "output_type": "execute_result"
    }
   ],
   "source": [
    "list = [2,3,4,5,6]\n",
    "func1(list)"
   ]
  },
  {
   "cell_type": "code",
   "execution_count": 25,
   "metadata": {},
   "outputs": [],
   "source": [
    "def func2(list):\n",
    "    temp1 = 0\n",
    "    for i in list:\n",
    "        if i%2!=0:\n",
    "            temp1+=i\n",
    "\n",
    "    return temp1"
   ]
  },
  {
   "cell_type": "code",
   "execution_count": 26,
   "metadata": {},
   "outputs": [
    {
     "data": {
      "text/plain": [
       "16"
      ]
     },
     "execution_count": 26,
     "metadata": {},
     "output_type": "execute_result"
    }
   ],
   "source": [
    "list1 = [3,6,5,7,1]\n",
    "func2(list1)\n"
   ]
  },
  {
   "cell_type": "code",
   "execution_count": 35,
   "metadata": {},
   "outputs": [],
   "source": [
    "def func3(list):\n",
    "    temp2 = 0\n",
    "    for i in list:\n",
    "        if i%2==0:\n",
    "            temp2 = i**2 + temp2\n",
    "    return temp2"
   ]
  },
  {
   "cell_type": "code",
   "execution_count": 36,
   "metadata": {},
   "outputs": [
    {
     "data": {
      "text/plain": [
       "36"
      ]
     },
     "execution_count": 36,
     "metadata": {},
     "output_type": "execute_result"
    }
   ],
   "source": [
    "list1 = [3,6,5,7,1]\n",
    "func3(list1)"
   ]
  },
  {
   "cell_type": "code",
   "execution_count": 52,
   "metadata": {},
   "outputs": [],
   "source": [
    "def func4(list,target):\n",
    "    \n",
    "    for position, i in enumerate(list):\n",
    "        if i==target:\n",
    "            print(\"your target\",target,\"is present at this position\",position)\n",
    "        else:\n",
    "            print(\"target is not present\")\n",
    "    return         \n"
   ]
  },
  {
   "cell_type": "code",
   "execution_count": 54,
   "metadata": {},
   "outputs": [
    {
     "name": "stdout",
     "output_type": "stream",
     "text": [
      "target is not present\n",
      "your target 6 is present at this position 1\n",
      "target is not present\n",
      "target is not present\n",
      "target is not present\n",
      "your target 6 is present at this position 5\n"
     ]
    }
   ],
   "source": [
    "list1 = [3,6,5,7,1,6]\n",
    "func4(list1,6)"
   ]
  },
  {
   "cell_type": "code",
   "execution_count": 57,
   "metadata": {},
   "outputs": [
    {
     "data": {
      "text/plain": [
       "['fail', 'pass', 'pass', 'pass', 'fail', 'pass']"
      ]
     },
     "execution_count": 57,
     "metadata": {},
     "output_type": "execute_result"
    }
   ],
   "source": [
    "list = [22,34,56,78,20,45]\n",
    "\n",
    "list1 = [\"pass\" if item>=34 else \"fail\" for item in list]\n",
    "list1"
   ]
  },
  {
   "cell_type": "code",
   "execution_count": null,
   "metadata": {},
   "outputs": [],
   "source": [
    "\n"
   ]
  },
  {
   "cell_type": "code",
   "execution_count": null,
   "metadata": {},
   "outputs": [],
   "source": []
  },
  {
   "cell_type": "code",
   "execution_count": null,
   "metadata": {},
   "outputs": [],
   "source": []
  },
  {
   "cell_type": "code",
   "execution_count": null,
   "metadata": {},
   "outputs": [],
   "source": []
  },
  {
   "cell_type": "code",
   "execution_count": null,
   "metadata": {},
   "outputs": [],
   "source": []
  },
  {
   "cell_type": "code",
   "execution_count": null,
   "metadata": {},
   "outputs": [],
   "source": []
  },
  {
   "cell_type": "code",
   "execution_count": null,
   "metadata": {},
   "outputs": [],
   "source": []
  }
 ],
 "metadata": {
  "kernelspec": {
   "display_name": "Python 3",
   "language": "python",
   "name": "python3"
  },
  "language_info": {
   "codemirror_mode": {
    "name": "ipython",
    "version": 3
   },
   "file_extension": ".py",
   "mimetype": "text/x-python",
   "name": "python",
   "nbconvert_exporter": "python",
   "pygments_lexer": "ipython3",
   "version": "3.12.2"
  }
 },
 "nbformat": 4,
 "nbformat_minor": 2
}
