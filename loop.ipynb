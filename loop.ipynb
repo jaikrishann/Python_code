{
 "cells": [
  {
   "cell_type": "markdown",
   "metadata": {},
   "source": [
    "### Loop"
   ]
  },
  {
   "cell_type": "code",
   "execution_count": 2,
   "metadata": {},
   "outputs": [
    {
     "name": "stdout",
     "output_type": "stream",
     "text": [
      "hello world\n",
      "hello world\n",
      "hello world\n",
      "hello world\n",
      "hello world\n",
      "hello world\n",
      "hello world\n",
      "hello world\n"
     ]
    }
   ],
   "source": [
    "print('hello world')\n",
    "print('hello world')\n",
    "print('hello world')\n",
    "print('hello world')\n",
    "print('hello world')\n",
    "print('hello world')\n",
    "print('hello world')\n",
    "print('hello world')\n"
   ]
  },
  {
   "cell_type": "code",
   "execution_count": 4,
   "metadata": {},
   "outputs": [
    {
     "name": "stdout",
     "output_type": "stream",
     "text": [
      "hello world\n",
      "hello world\n",
      "hello world\n",
      "3\n",
      "3\n",
      "3\n",
      "3\n",
      "3\n",
      "3\n",
      "3\n",
      "3\n",
      "3\n",
      "3\n"
     ]
    }
   ],
   "source": [
    "print('hello world')\n",
    "print('hello world')\n",
    "print('hello world')\n",
    "\n",
    "\n",
    "for i in range(10):\n",
    "    num1 = 1 \n",
    "    num2 = 2\n",
    "    result = num1 + num2 \n",
    "    print(result)"
   ]
  },
  {
   "cell_type": "code",
   "execution_count": 8,
   "metadata": {},
   "outputs": [
    {
     "name": "stdout",
     "output_type": "stream",
     "text": [
      "1\n",
      "2\n",
      "3\n",
      "4\n"
     ]
    }
   ],
   "source": [
    "# types \n",
    "# for loop\n",
    "# while loop\n",
    "\n",
    "# range function ending point is not inclusive \n",
    "for i in range(1,5):\n",
    "    print(i)\n",
    "    "
   ]
  },
  {
   "cell_type": "code",
   "execution_count": 11,
   "metadata": {},
   "outputs": [
    {
     "name": "stdout",
     "output_type": "stream",
     "text": [
      "0  hello world\n",
      "1  hello world\n",
      "2  hello world\n",
      "3  hello world\n",
      "4  hello world\n",
      "5  hello world\n",
      "6  hello world\n",
      "7  hello world\n",
      "8  hello world\n",
      "9  hello world\n"
     ]
    }
   ],
   "source": [
    "for i in range(10):\n",
    "    print(i,' hello world')"
   ]
  },
  {
   "cell_type": "code",
   "execution_count": 27,
   "metadata": {},
   "outputs": [
    {
     "name": "stdout",
     "output_type": "stream",
     "text": [
      "numerical\n"
     ]
    }
   ],
   "source": [
    "name = \"upflairs pvt 8 ltd jaipur \"\n",
    "for char in name:\n",
    "    if char == \"8\":\n",
    "        print('numerical')"
   ]
  },
  {
   "cell_type": "code",
   "execution_count": 25,
   "metadata": {},
   "outputs": [],
   "source": [
    "list1 = list(range(1,11))\n",
    "for i in list1:\n",
    "    if i == 90:\n",
    "        print('present')\n",
    "    "
   ]
  },
  {
   "cell_type": "code",
   "execution_count": 29,
   "metadata": {},
   "outputs": [
    {
     "name": "stdout",
     "output_type": "stream",
     "text": [
      "50  pass\n",
      "60  pass\n",
      "25  fail\n",
      "89  pass\n"
     ]
    }
   ],
   "source": [
    "per = [50,60,25,89]\n",
    "for item in per:\n",
    "    if item <=30:\n",
    "        print(item,' fail')\n",
    "    else:\n",
    "        print(item,' pass')\n"
   ]
  },
  {
   "cell_type": "code",
   "execution_count": 31,
   "metadata": {},
   "outputs": [
    {
     "name": "stdout",
     "output_type": "stream",
     "text": [
      "EVEN\n",
      "EVEN\n",
      "ODD\n",
      "ODD\n",
      "EVEN\n"
     ]
    }
   ],
   "source": [
    "per = (50,60,25,89,78)\n",
    "for item in per:\n",
    "    if item % 2 == 0:\n",
    "        print('EVEN')\n",
    "    else:\n",
    "        print('ODD')"
   ]
  },
  {
   "cell_type": "code",
   "execution_count": 37,
   "metadata": {},
   "outputs": [
    {
     "name": "stdout",
     "output_type": "stream",
     "text": [
      "jay\n",
      "5\n",
      "data science\n"
     ]
    }
   ],
   "source": [
    "d = {'name':'jay','roll_no':5,'branch':'data science'}\n",
    "for i in d.values():\n",
    "    print(i)"
   ]
  },
  {
   "cell_type": "code",
   "execution_count": 49,
   "metadata": {},
   "outputs": [],
   "source": [
    "temp = list(d.items())\n",
    "\n",
    "first_tuple = temp[0]\n",
    "first_tuple\n",
    "\n",
    "# tuple unpacking\n",
    "key , value = first_tuple"
   ]
  },
  {
   "cell_type": "code",
   "execution_count": 38,
   "metadata": {},
   "outputs": [
    {
     "name": "stdout",
     "output_type": "stream",
     "text": [
      "name\n",
      "roll_no\n",
      "branch\n"
     ]
    }
   ],
   "source": []
  },
  {
   "cell_type": "code",
   "execution_count": 58,
   "metadata": {},
   "outputs": [
    {
     "name": "stdout",
     "output_type": "stream",
     "text": [
      "name <<<<>>>>>> jay\n",
      "roll_no <<<<>>>>>> 5\n",
      "branch <<<<>>>>>> data science\n"
     ]
    }
   ],
   "source": [
    "d = {'name':'jay','roll_no':5,'branch':'data science'}\n",
    "for key , value in d.items():\n",
    "    print(key ,\"<<<<>>>>>>\", value)"
   ]
  },
  {
   "cell_type": "code",
   "execution_count": 64,
   "metadata": {},
   "outputs": [
    {
     "name": "stdout",
     "output_type": "stream",
     "text": [
      "present\n"
     ]
    }
   ],
   "source": [
    "student_id =  [2,4,6,78,3,9,78,67,54,7,5]\n",
    "for i in student_id:\n",
    "    if i == 7:\n",
    "        print('present')"
   ]
  },
  {
   "cell_type": "code",
   "execution_count": 63,
   "metadata": {},
   "outputs": [
    {
     "name": "stdout",
     "output_type": "stream",
     "text": [
      "1\n",
      "\n",
      "6\n",
      "7\n",
      "8\n",
      "9\n",
      "10\n",
      "2\n",
      "\n",
      "6\n",
      "7\n",
      "8\n",
      "9\n",
      "10\n",
      "3\n",
      "\n",
      "6\n",
      "7\n",
      "8\n",
      "9\n",
      "10\n",
      "4\n",
      "\n",
      "6\n",
      "7\n",
      "8\n",
      "9\n",
      "10\n",
      "5\n",
      "\n",
      "6\n",
      "7\n",
      "8\n",
      "9\n",
      "10\n"
     ]
    }
   ],
   "source": [
    "# nested loop\n",
    "\n",
    "for i in range(1,6):\n",
    "    print(i)\n",
    "    print()\n",
    "\n",
    "    for j in range(6 , 11):\n",
    "        print(j)\n",
    "    for j in range(6 , 11):\n",
    "        print(j)\n",
    "\n",
    "        for j in range(6 , 11):\n",
    "            print(j)\n",
    "\n",
    "\n",
    "## time complexity\n",
    "# space complexity\n",
    "# code readability"
   ]
  },
  {
   "cell_type": "code",
   "execution_count": 67,
   "metadata": {},
   "outputs": [
    {
     "name": "stdout",
     "output_type": "stream",
     "text": [
      "u 2\n",
      "p 3\n",
      "f 1\n",
      "l 2\n",
      "a 2\n",
      "i 2\n",
      "r 2\n",
      "s 1\n",
      "  3\n",
      "p 3\n",
      "v 1\n",
      "t 2\n",
      "  3\n",
      "l 2\n",
      "t 2\n",
      "d 1\n",
      "  3\n",
      "j 1\n",
      "a 2\n",
      "i 2\n",
      "p 3\n",
      "u 2\n",
      "r 2\n"
     ]
    }
   ],
   "source": [
    "name = 'upflairs pvt ltd jaipur'\n",
    "\n",
    "name.count('u')\n",
    "\n",
    "for char in name:\n",
    "    print(char , name.count(char))\n"
   ]
  },
  {
   "cell_type": "code",
   "execution_count": 2,
   "metadata": {},
   "outputs": [
    {
     "name": "stdout",
     "output_type": "stream",
     "text": [
      "1\n",
      "2\n",
      "3\n",
      "4\n",
      "5\n",
      "6\n"
     ]
    }
   ],
   "source": [
    "i = 1\n",
    "while i < 6:\n",
    "    print(i)\n",
    "    i +=1"
   ]
  },
  {
   "cell_type": "code",
   "execution_count": null,
   "metadata": {},
   "outputs": [],
   "source": [
    "# break and continue , enumerate"
   ]
  },
  {
   "cell_type": "code",
   "execution_count": 13,
   "metadata": {},
   "outputs": [
    {
     "name": "stdout",
     "output_type": "stream",
     "text": [
      "4 6\n"
     ]
    }
   ],
   "source": [
    "lst = [34,53,64,2,6,75,75]\n",
    "for i,item in enumerate(lst):\n",
    "    if item == 6:\n",
    "        print(i , item)"
   ]
  },
  {
   "cell_type": "code",
   "execution_count": 21,
   "metadata": {},
   "outputs": [
    {
     "name": "stdout",
     "output_type": "stream",
     "text": [
      "1\n",
      "2\n",
      "3\n",
      "4\n",
      "5\n"
     ]
    }
   ],
   "source": [
    "## break\n",
    "for i in range(1,11):\n",
    "    print(i)\n",
    "    if i == 5:\n",
    "        break "
   ]
  },
  {
   "cell_type": "code",
   "execution_count": 24,
   "metadata": {},
   "outputs": [
    {
     "name": "stdout",
     "output_type": "stream",
     "text": [
      "1\n",
      "2\n",
      "3\n",
      "4\n",
      "5\n",
      "6\n",
      "7\n",
      "8\n",
      "10\n"
     ]
    }
   ],
   "source": [
    "## continue\n",
    "for i in range(1,11):\n",
    "    \n",
    "    if i == 9:\n",
    "        continue \n",
    "    print(i)\n",
    "    "
   ]
  },
  {
   "cell_type": "code",
   "execution_count": 28,
   "metadata": {},
   "outputs": [
    {
     "name": "stdout",
     "output_type": "stream",
     "text": [
      "hello world\n",
      "hello world\n",
      "hello world\n"
     ]
    }
   ],
   "source": [
    "x = 0\n",
    "while x<3:\n",
    "    x = x + 1\n",
    "     \n",
    "    print(\"hello world\")"
   ]
  },
  {
   "cell_type": "code",
   "execution_count": 3,
   "metadata": {},
   "outputs": [
    {
     "name": "stdout",
     "output_type": "stream",
     "text": [
      "504\n"
     ]
    }
   ],
   "source": [
    "x = [2,3,6,9,8,24,67,42,10,76,25,66,89,90,12,14,18,26,4,8,21,98,49,13]\n",
    "temp = 0\n",
    "for i in x:\n",
    "    if i %2==0:\n",
    "        temp += i\n",
    "    else:\n",
    "        # print(\"odd number\")\n",
    "        pass\n",
    "print(temp)\n",
    "    "
   ]
  },
  {
   "cell_type": "code",
   "execution_count": 7,
   "metadata": {},
   "outputs": [],
   "source": [
    "a = 2\n",
    "if a == 2 :\n",
    "    pass\n",
    "else:\n",
    "    print('hii')"
   ]
  },
  {
   "cell_type": "code",
   "execution_count": 43,
   "metadata": {},
   "outputs": [
    {
     "name": "stdout",
     "output_type": "stream",
     "text": [
      "4  * 1  = 4\n",
      "4  * 2  = 8\n",
      "4  * 3  = 12\n",
      "4  * 4  = 16\n",
      "4  * 5  = 20\n",
      "4  * 6  = 24\n",
      "4  * 7  = 28\n",
      "4  * 8  = 32\n",
      "4  * 9  = 36\n",
      "4  * 10  = 40\n"
     ]
    }
   ],
   "source": [
    "y = int(input(\"enter number\"))\n",
    "for i in range(1,11):            \n",
    "   print(f\"{y}  * {i}  = {y*i }\"  )\n",
    "\n",
    "\n",
    "    "
   ]
  },
  {
   "cell_type": "code",
   "execution_count": 50,
   "metadata": {},
   "outputs": [],
   "source": [
    "num = 1\n",
    "while num %2 !=0: \n",
    "   print(f\"{y}  * {i}  = {y*i }\" )\n",
    "   i +=1"
   ]
  },
  {
   "cell_type": "code",
   "execution_count": 28,
   "metadata": {},
   "outputs": [
    {
     "name": "stdout",
     "output_type": "stream",
     "text": [
      "company  upflairs jaipur\n"
     ]
    }
   ],
   "source": [
    "a = \"upflairs\"\n",
    "b = 'jaipur'\n",
    "# print('hello world')\n",
    "# print(a)\n",
    "\n",
    "# print(a,b)\n",
    "print(\"company \",   a,b)\n",
    "# print(f\"company {a} {b}\")\n",
    "\n",
    "# print(2/2)\n",
    "\n",
    "\n",
    "# city = \"jaipur\"\n",
    "# strr  = f\"upflairs pvt ltd jaipur {city} \"\n",
    "# strr"
   ]
  },
  {
   "cell_type": "code",
   "execution_count": null,
   "metadata": {},
   "outputs": [],
   "source": [
    "# min()\n",
    "# max()\n",
    "# sort()\n",
    "# types of function \n",
    "\n",
    "1. built in function  --> min ,  max, sum , print\n",
    "2. user defined function "
   ]
  },
  {
   "cell_type": "code",
   "execution_count": 10,
   "metadata": {},
   "outputs": [
    {
     "name": "stdout",
     "output_type": "stream",
     "text": [
      "good morning\n",
      "Hello welcome to you \n"
     ]
    }
   ],
   "source": [
    "# defining function \n",
    "def hello():\n",
    "    #block of code \n",
    "    print(\"good morning\")\n",
    "    print('Hello welcome to you ')\n",
    "\n",
    "\n",
    " \n",
    "hello()   # calling \n"
   ]
  },
  {
   "cell_type": "code",
   "execution_count": 16,
   "metadata": {},
   "outputs": [
    {
     "name": "stdout",
     "output_type": "stream",
     "text": [
      "hello\n"
     ]
    },
    {
     "data": {
      "text/plain": [
       "15"
      ]
     },
     "execution_count": 16,
     "metadata": {},
     "output_type": "execute_result"
    }
   ],
   "source": [
    "def add():\n",
    "\n",
    "    print('hello')\n",
    "    return 5 + 10\n",
    "    print('hello ')\n",
    "\n",
    "\n",
    "result = add()\n",
    "result"
   ]
  },
  {
   "cell_type": "code",
   "execution_count": 20,
   "metadata": {},
   "outputs": [
    {
     "name": "stdout",
     "output_type": "stream",
     "text": [
      "30\n"
     ]
    }
   ],
   "source": [
    "# without parameter\n",
    "def add():\n",
    "    num1 = 10\n",
    "    num2 = 20\n",
    "    result = num1 + num2\n",
    "    return result\n",
    "\n",
    "output = add()\n",
    "print(output)"
   ]
  },
  {
   "cell_type": "code",
   "execution_count": 31,
   "metadata": {},
   "outputs": [
    {
     "name": "stdout",
     "output_type": "stream",
     "text": [
      "30\n"
     ]
    }
   ],
   "source": [
    "# with parameters\n",
    "\n",
    "def add(num1 ,num2 ):\n",
    "\n",
    "    result = num1 + num2\n",
    "    return result\n",
    "\n",
    "\n",
    "nu1 = 10\n",
    "nu2 = 20\n",
    "output = add( 10,20)\n",
    "print(output)\n"
   ]
  },
  {
   "cell_type": "code",
   "execution_count": 33,
   "metadata": {},
   "outputs": [
    {
     "data": {
      "text/plain": [
       "82"
      ]
     },
     "execution_count": 33,
     "metadata": {},
     "output_type": "execute_result"
    }
   ],
   "source": [
    "add(80,2)"
   ]
  },
  {
   "cell_type": "code",
   "execution_count": 46,
   "metadata": {},
   "outputs": [],
   "source": [
    "def apna_min(lst):\n",
    "    #block of code \n",
    "    minimum = x[0] \n",
    "    for  i in lst:\n",
    "        if minimum > i:\n",
    "            minimum = i\n",
    "\n",
    "    return minimum"
   ]
  },
  {
   "cell_type": "code",
   "execution_count": 48,
   "metadata": {},
   "outputs": [
    {
     "data": {
      "text/plain": [
       "4"
      ]
     },
     "execution_count": 48,
     "metadata": {},
     "output_type": "execute_result"
    }
   ],
   "source": [
    "x = [10,76,25,66,89,90,12,14,18,26,4,8,21,9]\n",
    "apna_min(x)"
   ]
  },
  {
   "cell_type": "code",
   "execution_count": 45,
   "metadata": {},
   "outputs": [
    {
     "data": {
      "text/plain": [
       "1"
      ]
     },
     "execution_count": 45,
     "metadata": {},
     "output_type": "execute_result"
    }
   ],
   "source": [
    "x = [10,76,25,66,89,90,12,14,18,26,4,8,21,98,49,1,3]\n",
    "\n",
    "temp = x[0]    10   , 4  , 1\n",
    "\n",
    "for  i in x:\n",
    "    if temp > i:\n",
    "        temp = i\n",
    "temp"
   ]
  },
  {
   "cell_type": "code",
   "execution_count": 42,
   "metadata": {},
   "outputs": [
    {
     "data": {
      "text/plain": [
       "98"
      ]
     },
     "execution_count": 42,
     "metadata": {},
     "output_type": "execute_result"
    }
   ],
   "source": [
    "max(x)"
   ]
  },
  {
   "cell_type": "code",
   "execution_count": 3,
   "metadata": {},
   "outputs": [
    {
     "data": {
      "text/plain": [
       "76"
      ]
     },
     "execution_count": 3,
     "metadata": {},
     "output_type": "execute_result"
    }
   ],
   "source": [
    "lst = [20,56,34,76,34,54,23,43,53,65]\n",
    "max(lst)"
   ]
  },
  {
   "cell_type": "code",
   "execution_count": null,
   "metadata": {},
   "outputs": [],
   "source": [
    "## sort()  --> ascending\n",
    "#                descending order\n",
    "\n",
    "\n",
    "#table --> generate_table(num)\n",
    "\n",
    "#square find function square(LST)  return square of all element\n",
    "#average find function average(lst)  return average of all elements from given list"
   ]
  },
  {
   "cell_type": "code",
   "execution_count": 1,
   "metadata": {},
   "outputs": [],
   "source": [
    "#square find function square(LST)  return square of all element\n",
    "\n",
    "def square_element(input_list):\n",
    "    return[x**2 for x in input_list]\n",
    "\n",
    "    "
   ]
  },
  {
   "cell_type": "code",
   "execution_count": 4,
   "metadata": {},
   "outputs": [
    {
     "name": "stdout",
     "output_type": "stream",
     "text": [
      "squared_list: [64, 81, 36, 4, 3025]\n"
     ]
    }
   ],
   "source": [
    "numbers = [8,9,6,2,55]\n",
    "square_list = square_element(numbers) \n",
    "print(\"squared_list:\" , square_list )"
   ]
  },
  {
   "cell_type": "code",
   "execution_count": 5,
   "metadata": {},
   "outputs": [],
   "source": [
    "def avg_fun(input_lst):\n",
    "    return sum(input_lst)/len(input_lst)"
   ]
  },
  {
   "cell_type": "code",
   "execution_count": 6,
   "metadata": {},
   "outputs": [
    {
     "name": "stdout",
     "output_type": "stream",
     "text": [
      "avg_lst: 6.0\n"
     ]
    }
   ],
   "source": [
    "z = [2,4,6,8,10]\n",
    "avg_lst = avg_fun(z)\n",
    "print(\"avg_lst:\" , avg_lst)"
   ]
  },
  {
   "cell_type": "code",
   "execution_count": null,
   "metadata": {},
   "outputs": [],
   "source": []
  }
 ],
 "metadata": {
  "kernelspec": {
   "display_name": "Python 3",
   "language": "python",
   "name": "python3"
  },
  "language_info": {
   "codemirror_mode": {
    "name": "ipython",
    "version": 3
   },
   "file_extension": ".py",
   "mimetype": "text/x-python",
   "name": "python",
   "nbconvert_exporter": "python",
   "pygments_lexer": "ipython3",
   "version": "3.12.2"
  }
 },
 "nbformat": 4,
 "nbformat_minor": 2
}
