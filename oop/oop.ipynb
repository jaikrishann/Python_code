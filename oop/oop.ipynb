{
 "cells": [
  {
   "cell_type": "code",
   "execution_count": 1,
   "metadata": {},
   "outputs": [
    {
     "data": {
      "text/plain": [
       "[25, 14, 85]"
      ]
     },
     "execution_count": 1,
     "metadata": {},
     "output_type": "execute_result"
    }
   ],
   "source": [
    "# proper way coding\n",
    "\n",
    "\n",
    "a = [25,14,85]\n",
    "a "
   ]
  },
  {
   "cell_type": "code",
   "execution_count": 2,
   "metadata": {},
   "outputs": [
    {
     "name": "stdout",
     "output_type": "stream",
     "text": [
      "2000\n"
     ]
    }
   ],
   "source": [
    "# class = blueprint \n",
    "\n",
    "class  Animal:\n",
    "\n",
    "    name = 'eleaphant'\n",
    "    weight = 2000 \n",
    "    age = 25\n",
    "\n",
    "    def display(self):\n",
    "        print(self.weight)\n",
    "\n",
    "\n",
    "class  Person:\n",
    "\n",
    "    name = 'mohan'\n",
    "    weight = 20\n",
    "    age = 40\n",
    "\n",
    "\n",
    "animal_objects = Animal()\n",
    "# print(animal_objects.age)\n",
    "# print(age)\n",
    "# print(name)\n",
    "animal_objects.display()\n",
    "\n",
    "\n",
    "# person_object = Person()\n",
    "# print(person_object.age)"
   ]
  },
  {
   "cell_type": "code",
   "execution_count": 5,
   "metadata": {},
   "outputs": [
    {
     "data": {
      "text/plain": [
       "'upflairs ltd. '"
      ]
     },
     "execution_count": 5,
     "metadata": {},
     "output_type": "execute_result"
    }
   ],
   "source": [
    "name = 'upflairs ltd. '\n",
    "name\n"
   ]
  },
  {
   "cell_type": "code",
   "execution_count": 4,
   "metadata": {},
   "outputs": [
    {
     "data": {
      "text/plain": [
       "()"
      ]
     },
     "execution_count": 4,
     "metadata": {},
     "output_type": "execute_result"
    }
   ],
   "source": [
    "name = str('upflairs pvt ltd')\n",
    "tuple()"
   ]
  },
  {
   "cell_type": "code",
   "execution_count": 37,
   "metadata": {},
   "outputs": [
    {
     "name": "stdout",
     "output_type": "stream",
     "text": [
      "58.0\n"
     ]
    }
   ],
   "source": [
    "class Practice:\n",
    "    lst = [12,34,56,89,99]\n",
    "\n",
    "\n",
    "    @classmethod\n",
    "    def sum_of_list(cls):\n",
    "        temp = 0\n",
    "        for item in cls.lst:\n",
    "           temp +=item\n",
    "          \n",
    "        return temp/len(cls.lst)\n",
    "        \n",
    "\n",
    "oj = Practice()\n",
    "output =Practice.sum_of_list()\n",
    "\n",
    "print(output)\n",
    "\n"
   ]
  },
  {
   "cell_type": "code",
   "execution_count": null,
   "metadata": {},
   "outputs": [],
   "source": [
    "# average\n"
   ]
  },
  {
   "cell_type": "code",
   "execution_count": null,
   "metadata": {},
   "outputs": [],
   "source": []
  },
  {
   "cell_type": "code",
   "execution_count": null,
   "metadata": {},
   "outputs": [],
   "source": []
  },
  {
   "cell_type": "code",
   "execution_count": null,
   "metadata": {},
   "outputs": [],
   "source": []
  }
 ],
 "metadata": {
  "kernelspec": {
   "display_name": "Python 3",
   "language": "python",
   "name": "python3"
  },
  "language_info": {
   "codemirror_mode": {
    "name": "ipython",
    "version": 3
   },
   "file_extension": ".py",
   "mimetype": "text/x-python",
   "name": "python",
   "nbconvert_exporter": "python",
   "pygments_lexer": "ipython3",
   "version": "3.12.2"
  }
 },
 "nbformat": 4,
 "nbformat_minor": 2
}
