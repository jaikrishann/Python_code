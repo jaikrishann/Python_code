{
 "cells": [
  {
   "cell_type": "markdown",
   "metadata": {},
   "source": [
    "## Tuple\n",
    "#### Tuples are used to store multiple items in a single variable.\n",
    "\n"
   ]
  },
  {
   "cell_type": "code",
   "execution_count": 1,
   "metadata": {},
   "outputs": [
    {
     "name": "stdout",
     "output_type": "stream",
     "text": [
      "('apple', 'banana', 'orange', 'watermelon')\n",
      "<class 'tuple'>\n"
     ]
    }
   ],
   "source": [
    "tuple1 = (\"apple\",\"banana\",\"orange\",\"watermelon\")\n",
    "print(tuple1)\n",
    "print(type(tuple1))"
   ]
  },
  {
   "cell_type": "code",
   "execution_count": 2,
   "metadata": {},
   "outputs": [
    {
     "name": "stdout",
     "output_type": "stream",
     "text": [
      "(2, 4, 6, 8, 9)\n",
      "<class 'tuple'>\n"
     ]
    }
   ],
   "source": [
    "tuple2 = (2,4,6,8,9)\n",
    "print(tuple2)\n",
    "print(type(tuple2))"
   ]
  },
  {
   "cell_type": "markdown",
   "metadata": {},
   "source": [
    "#### Multiple type of values in tuple"
   ]
  },
  {
   "cell_type": "code",
   "execution_count": 4,
   "metadata": {},
   "outputs": [
    {
     "name": "stdout",
     "output_type": "stream",
     "text": [
      "('code', 'python', 2, 4, 'c', True)\n",
      "<class 'tuple'>\n"
     ]
    }
   ],
   "source": [
    "tuple = (\"code\",\"python\",2,4,\"c\",True)\n",
    "print(tuple)\n",
    "print(type(tuple))"
   ]
  },
  {
   "cell_type": "code",
   "execution_count": 5,
   "metadata": {},
   "outputs": [
    {
     "name": "stdout",
     "output_type": "stream",
     "text": [
      "('code', 'python', 2, 4, 'c', True)\n",
      "<class 'tuple'>\n",
      "True\n"
     ]
    }
   ],
   "source": [
    "tuple = (\"code\",\"python\",2,4,\"c\",True)\n",
    "print(tuple)\n",
    "print(type(tuple))\n",
    "print(tuple[5])"
   ]
  },
  {
   "cell_type": "code",
   "execution_count": 6,
   "metadata": {},
   "outputs": [
    {
     "name": "stdout",
     "output_type": "stream",
     "text": [
      "('code', 'python', 2, 4, 'c', True)\n",
      "<class 'tuple'>\n",
      "2\n"
     ]
    }
   ],
   "source": [
    "tuple = (\"code\",\"python\",2,4,\"c\",True)\n",
    "print(tuple)\n",
    "print(type(tuple))\n",
    "print(tuple[-4])"
   ]
  },
  {
   "cell_type": "code",
   "execution_count": 7,
   "metadata": {},
   "outputs": [
    {
     "name": "stdout",
     "output_type": "stream",
     "text": [
      "('code', 'python', 2, 4, 'c', True)\n",
      "<class 'tuple'>\n",
      "('code', 4)\n"
     ]
    }
   ],
   "source": [
    "tuple = (\"code\",\"python\",2,4,\"c\",True)\n",
    "print(tuple)\n",
    "print(type(tuple))\n",
    "print(tuple[0:5:3])"
   ]
  },
  {
   "cell_type": "markdown",
   "metadata": {},
   "source": [
    "#### Check if item exist or not"
   ]
  },
  {
   "cell_type": "code",
   "execution_count": 8,
   "metadata": {},
   "outputs": [
    {
     "name": "stdout",
     "output_type": "stream",
     "text": [
      "('apple', 'orange', 'banana', 'papaya')\n",
      "<class 'tuple'>\n",
      "Item exist in tuple\n"
     ]
    }
   ],
   "source": [
    "tuple = (\"apple\",\"orange\",\"banana\",\"papaya\")\n",
    "print(tuple)\n",
    "print(type(tuple))\n",
    "if \"orange\"  in tuple:\n",
    "    print(\"Item exist in tuple\")\n",
    "\n",
    "\n"
   ]
  },
  {
   "cell_type": "code",
   "execution_count": 9,
   "metadata": {},
   "outputs": [
    {
     "name": "stdout",
     "output_type": "stream",
     "text": [
      "('apple', 'orange', 'banana', 'papaya')\n",
      "<class 'tuple'>\n",
      "Item is not in tuple\n"
     ]
    }
   ],
   "source": [
    "tuple = (\"apple\",\"orange\",\"banana\",\"papaya\")\n",
    "print(tuple)\n",
    "print(type(tuple))\n",
    "if \"chickoo\"  in tuple:\n",
    "    print(\"Item exist in tuple\")\n",
    "else:\n",
    "    print(\"Item is not in tuple\")\n"
   ]
  },
  {
   "cell_type": "markdown",
   "metadata": {},
   "source": [
    "### Length of a tuple\n"
   ]
  },
  {
   "cell_type": "code",
   "execution_count": 1,
   "metadata": {},
   "outputs": [
    {
     "name": "stdout",
     "output_type": "stream",
     "text": [
      "8\n"
     ]
    }
   ],
   "source": [
    "tuple2 = (\"cake\",\"code\",\"c\",\"python\",\"class\",2,5,9)\n",
    "print(len(tuple2)) "
   ]
  },
  {
   "cell_type": "markdown",
   "metadata": {},
   "source": [
    "### tuple constructor"
   ]
  },
  {
   "cell_type": "code",
   "execution_count": 2,
   "metadata": {},
   "outputs": [
    {
     "name": "stdout",
     "output_type": "stream",
     "text": [
      "('apple', 'banana', 'cherry')\n"
     ]
    }
   ],
   "source": [
    "tuple1 = tuple((\"apple\", \"banana\", \"cherry\")) \n",
    "print(tuple1)"
   ]
  },
  {
   "cell_type": "code",
   "execution_count": 3,
   "metadata": {},
   "outputs": [
    {
     "name": "stdout",
     "output_type": "stream",
     "text": [
      "('python', 'code', 'class', 2)\n"
     ]
    }
   ],
   "source": [
    "x = ((\"python\",\"code\",\"cake\",2))\n",
    "y = list(x)\n",
    "y[2] = \"class\"\n",
    "x = tuple(y)\n",
    "print(x)"
   ]
  },
  {
   "cell_type": "code",
   "execution_count": 4,
   "metadata": {},
   "outputs": [
    {
     "name": "stdout",
     "output_type": "stream",
     "text": [
      "('my', 'name', 'is', 'jai')\n"
     ]
    }
   ],
   "source": [
    "j = ((\"my\",\"name\",\"is\",\"kook\"))\n",
    "k = list(j)\n",
    "k[3] = \"jai\"\n",
    "j = tuple(k)\n",
    "print(j)\n"
   ]
  },
  {
   "cell_type": "code",
   "execution_count": 8,
   "metadata": {},
   "outputs": [
    {
     "name": "stdout",
     "output_type": "stream",
     "text": [
      "('my', 'name', 'is', 'jai')\n"
     ]
    }
   ],
   "source": [
    "x1 = (\"my\",\"name\",\"is\")\n",
    "y1 = list(x1)\n",
    "y1.append(\"jai\")\n",
    "x1 = tuple(y1)\n",
    "print(x1)"
   ]
  },
  {
   "cell_type": "code",
   "execution_count": 9,
   "metadata": {},
   "outputs": [
    {
     "name": "stdout",
     "output_type": "stream",
     "text": [
      "('my', 'hobby', 'is', 'dancing')\n"
     ]
    }
   ],
   "source": [
    "x2 = (\"my\",\"hobby\",\"is\")\n",
    "y2 = list(x2)\n",
    "y2.append(\"dancing\")\n",
    "x2 = tuple(y2)\n",
    "print(x2)"
   ]
  },
  {
   "cell_type": "code",
   "execution_count": null,
   "metadata": {},
   "outputs": [],
   "source": []
  },
  {
   "cell_type": "markdown",
   "metadata": {},
   "source": [
    "### concatenate tuples"
   ]
  },
  {
   "cell_type": "code",
   "execution_count": 13,
   "metadata": {},
   "outputs": [
    {
     "name": "stdout",
     "output_type": "stream",
     "text": [
      "('python', 'class', 'code', 2, 5, 'programme')\n"
     ]
    }
   ],
   "source": [
    "tuple1 = (\"python\",\"class\",\"code\",2,5)\n",
    "tuple2 = (\"programme\",)\n",
    "tuple1 += tuple2\n",
    "print(tuple1)"
   ]
  },
  {
   "cell_type": "markdown",
   "metadata": {},
   "source": [
    "### Tuple Unpacking"
   ]
  },
  {
   "cell_type": "code",
   "execution_count": 14,
   "metadata": {},
   "outputs": [
    {
     "name": "stdout",
     "output_type": "stream",
     "text": [
      "apple\n",
      "banana\n",
      "papaya\n"
     ]
    }
   ],
   "source": [
    "fruits = (\"apple\",\"banana\",\"papaya\")\n",
    "x,y,z = fruits\n",
    "print(x)\n",
    "print(y)\n",
    "print(z)"
   ]
  },
  {
   "cell_type": "code",
   "execution_count": null,
   "metadata": {},
   "outputs": [],
   "source": []
  }
 ],
 "metadata": {
  "kernelspec": {
   "display_name": "Python 3",
   "language": "python",
   "name": "python3"
  },
  "language_info": {
   "codemirror_mode": {
    "name": "ipython",
    "version": 3
   },
   "file_extension": ".py",
   "mimetype": "text/x-python",
   "name": "python",
   "nbconvert_exporter": "python",
   "pygments_lexer": "ipython3",
   "version": "3.12.2"
  }
 },
 "nbformat": 4,
 "nbformat_minor": 2
}
